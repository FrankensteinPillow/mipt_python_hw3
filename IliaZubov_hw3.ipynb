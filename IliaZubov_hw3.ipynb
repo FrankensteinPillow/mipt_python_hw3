{
 "cells": [
  {
   "cell_type": "code",
   "execution_count": 1,
   "metadata": {
    "executionInfo": {
     "elapsed": 813,
     "status": "ok",
     "timestamp": 1728990357224,
     "user": {
      "displayName": "Ilia Zubov",
      "userId": "11715451027508597050"
     },
     "user_tz": -120
    },
    "id": "TcoNSKo3DQOA"
   },
   "outputs": [],
   "source": [
    "import pandas as pd\n",
    "import matplotlib.pyplot as plt\n",
    "import numpy as np"
   ]
  },
  {
   "cell_type": "markdown",
   "metadata": {
    "id": "hVeOXWTKNTOO"
   },
   "source": [
    "Загрузим данные из `csv` файлов:"
   ]
  },
  {
   "cell_type": "code",
   "execution_count": 2,
   "metadata": {
    "executionInfo": {
     "elapsed": 1207,
     "status": "ok",
     "timestamp": 1728990358472,
     "user": {
      "displayName": "Ilia Zubov",
      "userId": "11715451027508597050"
     },
     "user_tz": -120
    },
    "id": "jK8x-CtbDhm1"
   },
   "outputs": [],
   "source": [
    "lectures = pd.read_csv('lectures.csv')\n",
    "questions = pd.read_csv('questions.csv')\n",
    "train = pd.read_csv(\n",
    "    'train.csv',\n",
    ")"
   ]
  },
  {
   "cell_type": "markdown",
   "metadata": {},
   "source": [
    "Посмотрим сколько памяти занимает наш основной датасет:"
   ]
  },
  {
   "cell_type": "code",
   "execution_count": 3,
   "metadata": {},
   "outputs": [
    {
     "name": "stdout",
     "output_type": "stream",
     "text": [
      "Датасет занимает в памяти 7723.26 Мб\n"
     ]
    }
   ],
   "source": [
    "megabyte = 1024 ** 2\n",
    "megabyte_in_memory = train.memory_usage().sum() / megabyte\n",
    "print(f\"Датасет занимает в памяти {megabyte_in_memory:.2f} Мб\")"
   ]
  },
  {
   "cell_type": "markdown",
   "metadata": {
    "id": "lFbvz9ToPSwB"
   },
   "source": [
    "Посмотрим, какие данные и в каком формате лежат в наших датафреймах, а так же посмотрим базовые статистики. Воспользуемся методами `.sample()` и `.describe()`:"
   ]
  },
  {
   "cell_type": "code",
   "execution_count": 4,
   "metadata": {
    "colab": {
     "base_uri": "https://localhost:8080/",
     "height": 380
    },
    "executionInfo": {
     "elapsed": 8,
     "status": "ok",
     "timestamp": 1728990358493,
     "user": {
      "displayName": "Ilia Zubov",
      "userId": "11715451027508597050"
     },
     "user_tz": -120
    },
    "id": "ZED20_OoNMbc",
    "outputId": "7c9ae5ac-58b4-4243-f0f6-4f4912f30684"
   },
   "outputs": [
    {
     "data": {
      "text/html": [
       "<div>\n",
       "<style scoped>\n",
       "    .dataframe tbody tr th:only-of-type {\n",
       "        vertical-align: middle;\n",
       "    }\n",
       "\n",
       "    .dataframe tbody tr th {\n",
       "        vertical-align: top;\n",
       "    }\n",
       "\n",
       "    .dataframe thead th {\n",
       "        text-align: right;\n",
       "    }\n",
       "</style>\n",
       "<table border=\"1\" class=\"dataframe\">\n",
       "  <thead>\n",
       "    <tr style=\"text-align: right;\">\n",
       "      <th></th>\n",
       "      <th>lecture_id</th>\n",
       "      <th>tag</th>\n",
       "      <th>part</th>\n",
       "    </tr>\n",
       "  </thead>\n",
       "  <tbody>\n",
       "    <tr>\n",
       "      <th>count</th>\n",
       "      <td>418.000000</td>\n",
       "      <td>418.000000</td>\n",
       "      <td>418.000000</td>\n",
       "    </tr>\n",
       "    <tr>\n",
       "      <th>mean</th>\n",
       "      <td>16983.401914</td>\n",
       "      <td>94.480861</td>\n",
       "      <td>4.267943</td>\n",
       "    </tr>\n",
       "    <tr>\n",
       "      <th>std</th>\n",
       "      <td>9426.164660</td>\n",
       "      <td>53.586487</td>\n",
       "      <td>1.872424</td>\n",
       "    </tr>\n",
       "    <tr>\n",
       "      <th>min</th>\n",
       "      <td>89.000000</td>\n",
       "      <td>0.000000</td>\n",
       "      <td>1.000000</td>\n",
       "    </tr>\n",
       "    <tr>\n",
       "      <th>25%</th>\n",
       "      <td>9026.250000</td>\n",
       "      <td>50.250000</td>\n",
       "      <td>2.000000</td>\n",
       "    </tr>\n",
       "    <tr>\n",
       "      <th>50%</th>\n",
       "      <td>17161.500000</td>\n",
       "      <td>94.500000</td>\n",
       "      <td>5.000000</td>\n",
       "    </tr>\n",
       "    <tr>\n",
       "      <th>75%</th>\n",
       "      <td>24906.250000</td>\n",
       "      <td>140.000000</td>\n",
       "      <td>6.000000</td>\n",
       "    </tr>\n",
       "    <tr>\n",
       "      <th>max</th>\n",
       "      <td>32736.000000</td>\n",
       "      <td>187.000000</td>\n",
       "      <td>7.000000</td>\n",
       "    </tr>\n",
       "  </tbody>\n",
       "</table>\n",
       "</div>"
      ],
      "text/plain": [
       "         lecture_id         tag        part\n",
       "count    418.000000  418.000000  418.000000\n",
       "mean   16983.401914   94.480861    4.267943\n",
       "std     9426.164660   53.586487    1.872424\n",
       "min       89.000000    0.000000    1.000000\n",
       "25%     9026.250000   50.250000    2.000000\n",
       "50%    17161.500000   94.500000    5.000000\n",
       "75%    24906.250000  140.000000    6.000000\n",
       "max    32736.000000  187.000000    7.000000"
      ]
     },
     "execution_count": 4,
     "metadata": {},
     "output_type": "execute_result"
    }
   ],
   "source": [
    "lectures.describe()"
   ]
  },
  {
   "cell_type": "code",
   "execution_count": 5,
   "metadata": {
    "colab": {
     "base_uri": "https://localhost:8080/",
     "height": 380
    },
    "executionInfo": {
     "elapsed": 6,
     "status": "ok",
     "timestamp": 1728990358501,
     "user": {
      "displayName": "Ilia Zubov",
      "userId": "11715451027508597050"
     },
     "user_tz": -120
    },
    "id": "2Cut-w8gPvkl",
    "outputId": "eea6e74e-b97a-4ca1-eb72-b1cd87dcfa09"
   },
   "outputs": [
    {
     "data": {
      "text/html": [
       "<div>\n",
       "<style scoped>\n",
       "    .dataframe tbody tr th:only-of-type {\n",
       "        vertical-align: middle;\n",
       "    }\n",
       "\n",
       "    .dataframe tbody tr th {\n",
       "        vertical-align: top;\n",
       "    }\n",
       "\n",
       "    .dataframe thead th {\n",
       "        text-align: right;\n",
       "    }\n",
       "</style>\n",
       "<table border=\"1\" class=\"dataframe\">\n",
       "  <thead>\n",
       "    <tr style=\"text-align: right;\">\n",
       "      <th></th>\n",
       "      <th>question_id</th>\n",
       "      <th>bundle_id</th>\n",
       "      <th>correct_answer</th>\n",
       "      <th>part</th>\n",
       "    </tr>\n",
       "  </thead>\n",
       "  <tbody>\n",
       "    <tr>\n",
       "      <th>count</th>\n",
       "      <td>13523.00000</td>\n",
       "      <td>13523.000000</td>\n",
       "      <td>13523.000000</td>\n",
       "      <td>13523.000000</td>\n",
       "    </tr>\n",
       "    <tr>\n",
       "      <th>mean</th>\n",
       "      <td>6761.00000</td>\n",
       "      <td>6760.510907</td>\n",
       "      <td>1.455298</td>\n",
       "      <td>4.264956</td>\n",
       "    </tr>\n",
       "    <tr>\n",
       "      <th>std</th>\n",
       "      <td>3903.89818</td>\n",
       "      <td>3903.857783</td>\n",
       "      <td>1.149707</td>\n",
       "      <td>1.652553</td>\n",
       "    </tr>\n",
       "    <tr>\n",
       "      <th>min</th>\n",
       "      <td>0.00000</td>\n",
       "      <td>0.000000</td>\n",
       "      <td>0.000000</td>\n",
       "      <td>1.000000</td>\n",
       "    </tr>\n",
       "    <tr>\n",
       "      <th>25%</th>\n",
       "      <td>3380.50000</td>\n",
       "      <td>3379.500000</td>\n",
       "      <td>0.000000</td>\n",
       "      <td>3.000000</td>\n",
       "    </tr>\n",
       "    <tr>\n",
       "      <th>50%</th>\n",
       "      <td>6761.00000</td>\n",
       "      <td>6761.000000</td>\n",
       "      <td>1.000000</td>\n",
       "      <td>5.000000</td>\n",
       "    </tr>\n",
       "    <tr>\n",
       "      <th>75%</th>\n",
       "      <td>10141.50000</td>\n",
       "      <td>10140.000000</td>\n",
       "      <td>3.000000</td>\n",
       "      <td>5.000000</td>\n",
       "    </tr>\n",
       "    <tr>\n",
       "      <th>max</th>\n",
       "      <td>13522.00000</td>\n",
       "      <td>13522.000000</td>\n",
       "      <td>3.000000</td>\n",
       "      <td>7.000000</td>\n",
       "    </tr>\n",
       "  </tbody>\n",
       "</table>\n",
       "</div>"
      ],
      "text/plain": [
       "       question_id     bundle_id  correct_answer          part\n",
       "count  13523.00000  13523.000000    13523.000000  13523.000000\n",
       "mean    6761.00000   6760.510907        1.455298      4.264956\n",
       "std     3903.89818   3903.857783        1.149707      1.652553\n",
       "min        0.00000      0.000000        0.000000      1.000000\n",
       "25%     3380.50000   3379.500000        0.000000      3.000000\n",
       "50%     6761.00000   6761.000000        1.000000      5.000000\n",
       "75%    10141.50000  10140.000000        3.000000      5.000000\n",
       "max    13522.00000  13522.000000        3.000000      7.000000"
      ]
     },
     "execution_count": 5,
     "metadata": {},
     "output_type": "execute_result"
    }
   ],
   "source": [
    "questions.describe()"
   ]
  },
  {
   "cell_type": "code",
   "execution_count": 6,
   "metadata": {
    "colab": {
     "base_uri": "https://localhost:8080/",
     "height": 400
    },
    "executionInfo": {
     "elapsed": 2695,
     "status": "ok",
     "timestamp": 1728990361196,
     "user": {
      "displayName": "Ilia Zubov",
      "userId": "11715451027508597050"
     },
     "user_tz": -120
    },
    "id": "nAFtgRdJFuF-",
    "outputId": "b76e00d0-726c-45df-96ee-46bedb4b1cb2"
   },
   "outputs": [
    {
     "data": {
      "text/html": [
       "<div>\n",
       "<style scoped>\n",
       "    .dataframe tbody tr th:only-of-type {\n",
       "        vertical-align: middle;\n",
       "    }\n",
       "\n",
       "    .dataframe tbody tr th {\n",
       "        vertical-align: top;\n",
       "    }\n",
       "\n",
       "    .dataframe thead th {\n",
       "        text-align: right;\n",
       "    }\n",
       "</style>\n",
       "<table border=\"1\" class=\"dataframe\">\n",
       "  <thead>\n",
       "    <tr style=\"text-align: right;\">\n",
       "      <th></th>\n",
       "      <th>row_id</th>\n",
       "      <th>timestamp</th>\n",
       "      <th>user_id</th>\n",
       "      <th>content_id</th>\n",
       "      <th>content_type_id</th>\n",
       "      <th>task_container_id</th>\n",
       "      <th>user_answer</th>\n",
       "      <th>answered_correctly</th>\n",
       "      <th>prior_question_elapsed_time</th>\n",
       "    </tr>\n",
       "  </thead>\n",
       "  <tbody>\n",
       "    <tr>\n",
       "      <th>count</th>\n",
       "      <td>1.012303e+08</td>\n",
       "      <td>1.012303e+08</td>\n",
       "      <td>1.012303e+08</td>\n",
       "      <td>1.012303e+08</td>\n",
       "      <td>1.012303e+08</td>\n",
       "      <td>1.012303e+08</td>\n",
       "      <td>1.012303e+08</td>\n",
       "      <td>1.012303e+08</td>\n",
       "      <td>9.887879e+07</td>\n",
       "    </tr>\n",
       "    <tr>\n",
       "      <th>mean</th>\n",
       "      <td>5.061517e+07</td>\n",
       "      <td>7.703644e+09</td>\n",
       "      <td>1.076732e+09</td>\n",
       "      <td>5.219605e+03</td>\n",
       "      <td>1.935222e-02</td>\n",
       "      <td>9.040624e+02</td>\n",
       "      <td>1.376123e+00</td>\n",
       "      <td>6.251644e-01</td>\n",
       "      <td>2.542381e+04</td>\n",
       "    </tr>\n",
       "    <tr>\n",
       "      <th>std</th>\n",
       "      <td>2.922268e+07</td>\n",
       "      <td>1.159266e+10</td>\n",
       "      <td>6.197163e+08</td>\n",
       "      <td>3.866359e+03</td>\n",
       "      <td>1.377596e-01</td>\n",
       "      <td>1.358302e+03</td>\n",
       "      <td>1.192896e+00</td>\n",
       "      <td>5.225307e-01</td>\n",
       "      <td>1.994815e+04</td>\n",
       "    </tr>\n",
       "    <tr>\n",
       "      <th>min</th>\n",
       "      <td>0.000000e+00</td>\n",
       "      <td>0.000000e+00</td>\n",
       "      <td>1.150000e+02</td>\n",
       "      <td>0.000000e+00</td>\n",
       "      <td>0.000000e+00</td>\n",
       "      <td>0.000000e+00</td>\n",
       "      <td>-1.000000e+00</td>\n",
       "      <td>-1.000000e+00</td>\n",
       "      <td>0.000000e+00</td>\n",
       "    </tr>\n",
       "    <tr>\n",
       "      <th>25%</th>\n",
       "      <td>2.530758e+07</td>\n",
       "      <td>5.243436e+08</td>\n",
       "      <td>5.408116e+08</td>\n",
       "      <td>2.063000e+03</td>\n",
       "      <td>0.000000e+00</td>\n",
       "      <td>1.040000e+02</td>\n",
       "      <td>0.000000e+00</td>\n",
       "      <td>0.000000e+00</td>\n",
       "      <td>1.600000e+04</td>\n",
       "    </tr>\n",
       "    <tr>\n",
       "      <th>50%</th>\n",
       "      <td>5.061517e+07</td>\n",
       "      <td>2.674234e+09</td>\n",
       "      <td>1.071781e+09</td>\n",
       "      <td>5.026000e+03</td>\n",
       "      <td>0.000000e+00</td>\n",
       "      <td>3.820000e+02</td>\n",
       "      <td>1.000000e+00</td>\n",
       "      <td>1.000000e+00</td>\n",
       "      <td>2.100000e+04</td>\n",
       "    </tr>\n",
       "    <tr>\n",
       "      <th>75%</th>\n",
       "      <td>7.592275e+07</td>\n",
       "      <td>9.924551e+09</td>\n",
       "      <td>1.615742e+09</td>\n",
       "      <td>7.425000e+03</td>\n",
       "      <td>0.000000e+00</td>\n",
       "      <td>1.094000e+03</td>\n",
       "      <td>3.000000e+00</td>\n",
       "      <td>1.000000e+00</td>\n",
       "      <td>2.966600e+04</td>\n",
       "    </tr>\n",
       "    <tr>\n",
       "      <th>max</th>\n",
       "      <td>1.012303e+08</td>\n",
       "      <td>8.742577e+10</td>\n",
       "      <td>2.147483e+09</td>\n",
       "      <td>3.273600e+04</td>\n",
       "      <td>1.000000e+00</td>\n",
       "      <td>9.999000e+03</td>\n",
       "      <td>3.000000e+00</td>\n",
       "      <td>1.000000e+00</td>\n",
       "      <td>3.000000e+05</td>\n",
       "    </tr>\n",
       "  </tbody>\n",
       "</table>\n",
       "</div>"
      ],
      "text/plain": [
       "             row_id     timestamp       user_id    content_id  \\\n",
       "count  1.012303e+08  1.012303e+08  1.012303e+08  1.012303e+08   \n",
       "mean   5.061517e+07  7.703644e+09  1.076732e+09  5.219605e+03   \n",
       "std    2.922268e+07  1.159266e+10  6.197163e+08  3.866359e+03   \n",
       "min    0.000000e+00  0.000000e+00  1.150000e+02  0.000000e+00   \n",
       "25%    2.530758e+07  5.243436e+08  5.408116e+08  2.063000e+03   \n",
       "50%    5.061517e+07  2.674234e+09  1.071781e+09  5.026000e+03   \n",
       "75%    7.592275e+07  9.924551e+09  1.615742e+09  7.425000e+03   \n",
       "max    1.012303e+08  8.742577e+10  2.147483e+09  3.273600e+04   \n",
       "\n",
       "       content_type_id  task_container_id   user_answer  answered_correctly  \\\n",
       "count     1.012303e+08       1.012303e+08  1.012303e+08        1.012303e+08   \n",
       "mean      1.935222e-02       9.040624e+02  1.376123e+00        6.251644e-01   \n",
       "std       1.377596e-01       1.358302e+03  1.192896e+00        5.225307e-01   \n",
       "min       0.000000e+00       0.000000e+00 -1.000000e+00       -1.000000e+00   \n",
       "25%       0.000000e+00       1.040000e+02  0.000000e+00        0.000000e+00   \n",
       "50%       0.000000e+00       3.820000e+02  1.000000e+00        1.000000e+00   \n",
       "75%       0.000000e+00       1.094000e+03  3.000000e+00        1.000000e+00   \n",
       "max       1.000000e+00       9.999000e+03  3.000000e+00        1.000000e+00   \n",
       "\n",
       "       prior_question_elapsed_time  \n",
       "count                 9.887879e+07  \n",
       "mean                  2.542381e+04  \n",
       "std                   1.994815e+04  \n",
       "min                   0.000000e+00  \n",
       "25%                   1.600000e+04  \n",
       "50%                   2.100000e+04  \n",
       "75%                   2.966600e+04  \n",
       "max                   3.000000e+05  "
      ]
     },
     "execution_count": 6,
     "metadata": {},
     "output_type": "execute_result"
    }
   ],
   "source": [
    "train.describe()"
   ]
  },
  {
   "cell_type": "code",
   "execution_count": 7,
   "metadata": {
    "colab": {
     "base_uri": "https://localhost:8080/",
     "height": 255
    },
    "executionInfo": {
     "elapsed": 4,
     "status": "ok",
     "timestamp": 1728990361202,
     "user": {
      "displayName": "Ilia Zubov",
      "userId": "11715451027508597050"
     },
     "user_tz": -120
    },
    "id": "CWnpWEqkDmhn",
    "outputId": "83eaf030-dca3-4c5e-95f7-bc6f219b4a85",
    "scrolled": true
   },
   "outputs": [
    {
     "data": {
      "text/html": [
       "<div>\n",
       "<style scoped>\n",
       "    .dataframe tbody tr th:only-of-type {\n",
       "        vertical-align: middle;\n",
       "    }\n",
       "\n",
       "    .dataframe tbody tr th {\n",
       "        vertical-align: top;\n",
       "    }\n",
       "\n",
       "    .dataframe thead th {\n",
       "        text-align: right;\n",
       "    }\n",
       "</style>\n",
       "<table border=\"1\" class=\"dataframe\">\n",
       "  <thead>\n",
       "    <tr style=\"text-align: right;\">\n",
       "      <th></th>\n",
       "      <th>lecture_id</th>\n",
       "      <th>tag</th>\n",
       "      <th>part</th>\n",
       "      <th>type_of</th>\n",
       "    </tr>\n",
       "  </thead>\n",
       "  <tbody>\n",
       "    <tr>\n",
       "      <th>204</th>\n",
       "      <td>16863</td>\n",
       "      <td>74</td>\n",
       "      <td>4</td>\n",
       "      <td>solving question</td>\n",
       "    </tr>\n",
       "    <tr>\n",
       "      <th>318</th>\n",
       "      <td>25121</td>\n",
       "      <td>89</td>\n",
       "      <td>5</td>\n",
       "      <td>solving question</td>\n",
       "    </tr>\n",
       "    <tr>\n",
       "      <th>240</th>\n",
       "      <td>19567</td>\n",
       "      <td>125</td>\n",
       "      <td>6</td>\n",
       "      <td>concept</td>\n",
       "    </tr>\n",
       "    <tr>\n",
       "      <th>347</th>\n",
       "      <td>27683</td>\n",
       "      <td>181</td>\n",
       "      <td>6</td>\n",
       "      <td>concept</td>\n",
       "    </tr>\n",
       "    <tr>\n",
       "      <th>299</th>\n",
       "      <td>23815</td>\n",
       "      <td>113</td>\n",
       "      <td>3</td>\n",
       "      <td>concept</td>\n",
       "    </tr>\n",
       "  </tbody>\n",
       "</table>\n",
       "</div>"
      ],
      "text/plain": [
       "     lecture_id  tag  part           type_of\n",
       "204       16863   74     4  solving question\n",
       "318       25121   89     5  solving question\n",
       "240       19567  125     6           concept\n",
       "347       27683  181     6           concept\n",
       "299       23815  113     3           concept"
      ]
     },
     "execution_count": 7,
     "metadata": {},
     "output_type": "execute_result"
    }
   ],
   "source": [
    "lectures.sample(5)"
   ]
  },
  {
   "cell_type": "code",
   "execution_count": 8,
   "metadata": {
    "colab": {
     "base_uri": "https://localhost:8080/",
     "height": 255
    },
    "executionInfo": {
     "elapsed": 5,
     "status": "ok",
     "timestamp": 1728990361208,
     "user": {
      "displayName": "Ilia Zubov",
      "userId": "11715451027508597050"
     },
     "user_tz": -120
    },
    "id": "lBl3BaMvFk8Z",
    "outputId": "c1837ef7-abb5-481f-d17f-3125b6f51559",
    "scrolled": true
   },
   "outputs": [
    {
     "data": {
      "text/html": [
       "<div>\n",
       "<style scoped>\n",
       "    .dataframe tbody tr th:only-of-type {\n",
       "        vertical-align: middle;\n",
       "    }\n",
       "\n",
       "    .dataframe tbody tr th {\n",
       "        vertical-align: top;\n",
       "    }\n",
       "\n",
       "    .dataframe thead th {\n",
       "        text-align: right;\n",
       "    }\n",
       "</style>\n",
       "<table border=\"1\" class=\"dataframe\">\n",
       "  <thead>\n",
       "    <tr style=\"text-align: right;\">\n",
       "      <th></th>\n",
       "      <th>question_id</th>\n",
       "      <th>bundle_id</th>\n",
       "      <th>correct_answer</th>\n",
       "      <th>part</th>\n",
       "      <th>tags</th>\n",
       "    </tr>\n",
       "  </thead>\n",
       "  <tbody>\n",
       "    <tr>\n",
       "      <th>3248</th>\n",
       "      <td>3248</td>\n",
       "      <td>3246</td>\n",
       "      <td>3</td>\n",
       "      <td>4</td>\n",
       "      <td>157 67 38</td>\n",
       "    </tr>\n",
       "    <tr>\n",
       "      <th>11838</th>\n",
       "      <td>11838</td>\n",
       "      <td>11836</td>\n",
       "      <td>0</td>\n",
       "      <td>3</td>\n",
       "      <td>136 38 81 29</td>\n",
       "    </tr>\n",
       "    <tr>\n",
       "      <th>5151</th>\n",
       "      <td>5151</td>\n",
       "      <td>5151</td>\n",
       "      <td>1</td>\n",
       "      <td>5</td>\n",
       "      <td>8</td>\n",
       "    </tr>\n",
       "    <tr>\n",
       "      <th>4951</th>\n",
       "      <td>4951</td>\n",
       "      <td>4951</td>\n",
       "      <td>2</td>\n",
       "      <td>5</td>\n",
       "      <td>8</td>\n",
       "    </tr>\n",
       "    <tr>\n",
       "      <th>7534</th>\n",
       "      <td>7534</td>\n",
       "      <td>7534</td>\n",
       "      <td>2</td>\n",
       "      <td>7</td>\n",
       "      <td>98 118 21</td>\n",
       "    </tr>\n",
       "  </tbody>\n",
       "</table>\n",
       "</div>"
      ],
      "text/plain": [
       "       question_id  bundle_id  correct_answer  part          tags\n",
       "3248          3248       3246               3     4     157 67 38\n",
       "11838        11838      11836               0     3  136 38 81 29\n",
       "5151          5151       5151               1     5             8\n",
       "4951          4951       4951               2     5             8\n",
       "7534          7534       7534               2     7     98 118 21"
      ]
     },
     "execution_count": 8,
     "metadata": {},
     "output_type": "execute_result"
    }
   ],
   "source": [
    "questions.sample(5)"
   ]
  },
  {
   "cell_type": "code",
   "execution_count": 9,
   "metadata": {
    "colab": {
     "base_uri": "https://localhost:8080/",
     "height": 275
    },
    "executionInfo": {
     "elapsed": 544,
     "status": "ok",
     "timestamp": 1728990361754,
     "user": {
      "displayName": "Ilia Zubov",
      "userId": "11715451027508597050"
     },
     "user_tz": -120
    },
    "id": "5UC2--zWQMgf",
    "outputId": "396d9828-2910-4909-ab26-2e32589cd877"
   },
   "outputs": [
    {
     "data": {
      "text/html": [
       "<div>\n",
       "<style scoped>\n",
       "    .dataframe tbody tr th:only-of-type {\n",
       "        vertical-align: middle;\n",
       "    }\n",
       "\n",
       "    .dataframe tbody tr th {\n",
       "        vertical-align: top;\n",
       "    }\n",
       "\n",
       "    .dataframe thead th {\n",
       "        text-align: right;\n",
       "    }\n",
       "</style>\n",
       "<table border=\"1\" class=\"dataframe\">\n",
       "  <thead>\n",
       "    <tr style=\"text-align: right;\">\n",
       "      <th></th>\n",
       "      <th>row_id</th>\n",
       "      <th>timestamp</th>\n",
       "      <th>user_id</th>\n",
       "      <th>content_id</th>\n",
       "      <th>content_type_id</th>\n",
       "      <th>task_container_id</th>\n",
       "      <th>user_answer</th>\n",
       "      <th>answered_correctly</th>\n",
       "      <th>prior_question_elapsed_time</th>\n",
       "      <th>prior_question_had_explanation</th>\n",
       "    </tr>\n",
       "  </thead>\n",
       "  <tbody>\n",
       "    <tr>\n",
       "      <th>5271031</th>\n",
       "      <td>5271031</td>\n",
       "      <td>17838146581</td>\n",
       "      <td>112635403</td>\n",
       "      <td>793</td>\n",
       "      <td>0</td>\n",
       "      <td>924</td>\n",
       "      <td>3</td>\n",
       "      <td>1</td>\n",
       "      <td>12000.0</td>\n",
       "      <td>True</td>\n",
       "    </tr>\n",
       "    <tr>\n",
       "      <th>87710475</th>\n",
       "      <td>87710475</td>\n",
       "      <td>462004529</td>\n",
       "      <td>1865967886</td>\n",
       "      <td>613</td>\n",
       "      <td>0</td>\n",
       "      <td>195</td>\n",
       "      <td>3</td>\n",
       "      <td>1</td>\n",
       "      <td>29000.0</td>\n",
       "      <td>True</td>\n",
       "    </tr>\n",
       "    <tr>\n",
       "      <th>26738898</th>\n",
       "      <td>26738898</td>\n",
       "      <td>94477602</td>\n",
       "      <td>570626785</td>\n",
       "      <td>984</td>\n",
       "      <td>0</td>\n",
       "      <td>26</td>\n",
       "      <td>0</td>\n",
       "      <td>1</td>\n",
       "      <td>15000.0</td>\n",
       "      <td>True</td>\n",
       "    </tr>\n",
       "    <tr>\n",
       "      <th>28535783</th>\n",
       "      <td>28535783</td>\n",
       "      <td>1539409869</td>\n",
       "      <td>609409215</td>\n",
       "      <td>6854</td>\n",
       "      <td>0</td>\n",
       "      <td>259</td>\n",
       "      <td>1</td>\n",
       "      <td>0</td>\n",
       "      <td>51000.0</td>\n",
       "      <td>True</td>\n",
       "    </tr>\n",
       "    <tr>\n",
       "      <th>21742563</th>\n",
       "      <td>21742563</td>\n",
       "      <td>85823983</td>\n",
       "      <td>467026020</td>\n",
       "      <td>3635</td>\n",
       "      <td>0</td>\n",
       "      <td>79</td>\n",
       "      <td>2</td>\n",
       "      <td>0</td>\n",
       "      <td>36000.0</td>\n",
       "      <td>True</td>\n",
       "    </tr>\n",
       "  </tbody>\n",
       "</table>\n",
       "</div>"
      ],
      "text/plain": [
       "            row_id    timestamp     user_id  content_id  content_type_id  \\\n",
       "5271031    5271031  17838146581   112635403         793                0   \n",
       "87710475  87710475    462004529  1865967886         613                0   \n",
       "26738898  26738898     94477602   570626785         984                0   \n",
       "28535783  28535783   1539409869   609409215        6854                0   \n",
       "21742563  21742563     85823983   467026020        3635                0   \n",
       "\n",
       "          task_container_id  user_answer  answered_correctly  \\\n",
       "5271031                 924            3                   1   \n",
       "87710475                195            3                   1   \n",
       "26738898                 26            0                   1   \n",
       "28535783                259            1                   0   \n",
       "21742563                 79            2                   0   \n",
       "\n",
       "          prior_question_elapsed_time prior_question_had_explanation  \n",
       "5271031                       12000.0                           True  \n",
       "87710475                      29000.0                           True  \n",
       "26738898                      15000.0                           True  \n",
       "28535783                      51000.0                           True  \n",
       "21742563                      36000.0                           True  "
      ]
     },
     "execution_count": 9,
     "metadata": {},
     "output_type": "execute_result"
    }
   ],
   "source": [
    "train.sample(5)"
   ]
  },
  {
   "cell_type": "markdown",
   "metadata": {},
   "source": [
    "# Предобработка данных\n",
    "\n",
    "Мы видим что объём информации значительный, поэтому можно рассмотреть от какой части данных можно избавиться. Например какая часть данных не нужна для проверки наших предположений или как можно преобразовать данные. Из условия задачи ясно, что необходимо проанализировать все предоставленные данные и понять какие из них влияют на успеваемость студентов, задача немного размытая, но попробуем найти такие факторы."
   ]
  },
  {
   "cell_type": "markdown",
   "metadata": {},
   "source": [
    "Первым делом проверим нет ли дубликатов в наших таблицах:"
   ]
  },
  {
   "cell_type": "code",
   "execution_count": 10,
   "metadata": {},
   "outputs": [
    {
     "name": "stdout",
     "output_type": "stream",
     "text": [
      "Train dataframe: False\n",
      "Questions dataframe: False\n",
      "Lectures dataframe: False\n"
     ]
    }
   ],
   "source": [
    "print('Train dataframe:', any(train.duplicated()))\n",
    "print('Questions dataframe:', any(train.duplicated()))\n",
    "print('Lectures dataframe:', any(lectures.duplicated()))"
   ]
  },
  {
   "cell_type": "markdown",
   "metadata": {},
   "source": [
    "Дубликатов в данных нет, поэтому удалять их не надо."
   ]
  },
  {
   "cell_type": "markdown",
   "metadata": {},
   "source": [
    "Посмотрим на столбцы `timestamp` и `prior_question_elapsed_time`. В своих максимальных значениях они могут достигать достаточно больших значений. Думаю что можно разделить эти значения на 1000 что бы получить секунды (данные в таблице указаны в миллисекундах), округлить полученное дробное число до ближайшего целого значения. Таким образом мы сможем сэкономить место в оперативной памяти за счёт изменения типа данных на int32."
   ]
  },
  {
   "cell_type": "code",
   "execution_count": 11,
   "metadata": {},
   "outputs": [
    {
     "name": "stdout",
     "output_type": "stream",
     "text": [
      "timestamp column mem usage in Mb: 772.33\n",
      "prior_question_elapsed_time column mem usage in Mb: 772.33\n",
      "timestamp max value: 87425772049\n",
      "prior_question_elapsed_time max value: 300000.0\n"
     ]
    }
   ],
   "source": [
    "print(f\"timestamp column mem usage in Mb: {train['timestamp'].memory_usage() / (1024 ** 2):.2f}\")\n",
    "print(f\"prior_question_elapsed_time column mem usage in Mb: {train['prior_question_elapsed_time'].memory_usage() / (1024 ** 2):.2f}\")\n",
    "print(f\"timestamp max value: {train['timestamp'].max()}\")\n",
    "print(f\"prior_question_elapsed_time max value: {train['prior_question_elapsed_time'].max()}\")"
   ]
  },
  {
   "cell_type": "markdown",
   "metadata": {},
   "source": [
    "Проверим нет ли в интересующих нас столбцах пропусков:"
   ]
  },
  {
   "cell_type": "code",
   "execution_count": 12,
   "metadata": {},
   "outputs": [
    {
     "name": "stdout",
     "output_type": "stream",
     "text": [
      "Пропусков prior_question_elapsed_time: 2351538\n",
      "Пропусков timestamp: 0\n"
     ]
    }
   ],
   "source": [
    "nans_et = len(train[train['prior_question_elapsed_time'].isnull()])\n",
    "nans_ts = len(train[train['timestamp'].isnull()])\n",
    "print(f\"Пропусков prior_question_elapsed_time: {nans_et}\") \n",
    "print(f\"Пропусков timestamp: {nans_ts}\")"
   ]
  },
  {
   "cell_type": "markdown",
   "metadata": {},
   "source": [
    "Заполним пропуски в столбце `prior_question_elapsed_time` средними значениями:"
   ]
  },
  {
   "cell_type": "code",
   "execution_count": 13,
   "metadata": {},
   "outputs": [],
   "source": [
    "train['prior_question_elapsed_time'] = train['prior_question_elapsed_time'].fillna(train['prior_question_elapsed_time'].mean())"
   ]
  },
  {
   "cell_type": "code",
   "execution_count": 14,
   "metadata": {},
   "outputs": [],
   "source": [
    "train['timestamp'] = train['timestamp'].apply(\n",
    "    lambda x: round(x / 1000, 0)\n",
    ").astype('int32')\n",
    "train['prior_question_elapsed_time'] = train['prior_question_elapsed_time'].apply(\n",
    "    lambda x: round(x / 1000, 0)\n",
    ").astype('int16')"
   ]
  },
  {
   "cell_type": "code",
   "execution_count": 15,
   "metadata": {},
   "outputs": [
    {
     "name": "stdout",
     "output_type": "stream",
     "text": [
      "timestamp column mem usage in Mb: 386.16\n",
      "prior_question_elapsed_time column mem usage in Mb: 193.08\n",
      "timestamp max value: 87425772\n",
      "prior_question_elapsed_time max value: 300\n"
     ]
    }
   ],
   "source": [
    "print(f\"timestamp column mem usage in Mb: {train['timestamp'].memory_usage() / (1024 ** 2):.2f}\")\n",
    "print(f\"prior_question_elapsed_time column mem usage in Mb: {train['prior_question_elapsed_time'].memory_usage() / (1024 ** 2):.2f}\")\n",
    "print(f\"timestamp max value: {train['timestamp'].max()}\")\n",
    "print(f\"prior_question_elapsed_time max value: {train['prior_question_elapsed_time'].max()}\")"
   ]
  },
  {
   "cell_type": "markdown",
   "metadata": {},
   "source": [
    "Нам удалось снизить затраты по памяти в этих столбцах примерно в 2 раза."
   ]
  },
  {
   "cell_type": "markdown",
   "metadata": {},
   "source": [
    "Данных, которые можно было бы преобразовать к категориальному типу, к сожалению у нас нет, поэтому эту часть преобразований производить не будем."
   ]
  },
  {
   "cell_type": "markdown",
   "metadata": {},
   "source": [
    "Последнее что можем сделать - приведём данные о правильных и неправильных ответах к типу `bool` для удобства работы. Заполним поля значениями `None` в тех случаях когда нет данных о корректности ответа."
   ]
  },
  {
   "cell_type": "code",
   "execution_count": 16,
   "metadata": {},
   "outputs": [],
   "source": [
    "train['answered_correctly'] = train['answered_correctly'].apply(\n",
    "    lambda x: None if x == -1 else bool(x)\n",
    ")"
   ]
  },
  {
   "cell_type": "markdown",
   "metadata": {},
   "source": [
    "# EDA"
   ]
  },
  {
   "cell_type": "markdown",
   "metadata": {},
   "source": [
    "## 1) Общие сведения о данных"
   ]
  },
  {
   "cell_type": "markdown",
   "metadata": {},
   "source": [
    "Построим сводную таблицу по `content_id` и `content_type_id`, что бы посмотреть сколько всего записей для конкретного контента (content_id) для типа контента (лекция или вопрос):"
   ]
  },
  {
   "cell_type": "code",
   "execution_count": 17,
   "metadata": {},
   "outputs": [
    {
     "data": {
      "text/html": [
       "<div>\n",
       "<style scoped>\n",
       "    .dataframe tbody tr th:only-of-type {\n",
       "        vertical-align: middle;\n",
       "    }\n",
       "\n",
       "    .dataframe tbody tr th {\n",
       "        vertical-align: top;\n",
       "    }\n",
       "\n",
       "    .dataframe thead th {\n",
       "        text-align: right;\n",
       "    }\n",
       "</style>\n",
       "<table border=\"1\" class=\"dataframe\">\n",
       "  <thead>\n",
       "    <tr style=\"text-align: right;\">\n",
       "      <th>content_type_id</th>\n",
       "      <th>0</th>\n",
       "      <th>1</th>\n",
       "    </tr>\n",
       "    <tr>\n",
       "      <th>content_id</th>\n",
       "      <th></th>\n",
       "      <th></th>\n",
       "    </tr>\n",
       "  </thead>\n",
       "  <tbody>\n",
       "    <tr>\n",
       "      <th>3153</th>\n",
       "      <td>6955.0</td>\n",
       "      <td>37024.0</td>\n",
       "    </tr>\n",
       "    <tr>\n",
       "      <th>21411</th>\n",
       "      <td>NaN</td>\n",
       "      <td>27051.0</td>\n",
       "    </tr>\n",
       "    <tr>\n",
       "      <th>10540</th>\n",
       "      <td>7801.0</td>\n",
       "      <td>24312.0</td>\n",
       "    </tr>\n",
       "    <tr>\n",
       "      <th>29695</th>\n",
       "      <td>NaN</td>\n",
       "      <td>24126.0</td>\n",
       "    </tr>\n",
       "    <tr>\n",
       "      <th>15888</th>\n",
       "      <td>NaN</td>\n",
       "      <td>22627.0</td>\n",
       "    </tr>\n",
       "    <tr>\n",
       "      <th>...</th>\n",
       "      <td>...</td>\n",
       "      <td>...</td>\n",
       "    </tr>\n",
       "    <tr>\n",
       "      <th>13518</th>\n",
       "      <td>868.0</td>\n",
       "      <td>NaN</td>\n",
       "    </tr>\n",
       "    <tr>\n",
       "      <th>13519</th>\n",
       "      <td>924.0</td>\n",
       "      <td>NaN</td>\n",
       "    </tr>\n",
       "    <tr>\n",
       "      <th>13520</th>\n",
       "      <td>861.0</td>\n",
       "      <td>NaN</td>\n",
       "    </tr>\n",
       "    <tr>\n",
       "      <th>13521</th>\n",
       "      <td>870.0</td>\n",
       "      <td>NaN</td>\n",
       "    </tr>\n",
       "    <tr>\n",
       "      <th>13522</th>\n",
       "      <td>860.0</td>\n",
       "      <td>NaN</td>\n",
       "    </tr>\n",
       "  </tbody>\n",
       "</table>\n",
       "<p>13782 rows × 2 columns</p>\n",
       "</div>"
      ],
      "text/plain": [
       "content_type_id       0        1\n",
       "content_id                      \n",
       "3153             6955.0  37024.0\n",
       "21411               NaN  27051.0\n",
       "10540            7801.0  24312.0\n",
       "29695               NaN  24126.0\n",
       "15888               NaN  22627.0\n",
       "...                 ...      ...\n",
       "13518             868.0      NaN\n",
       "13519             924.0      NaN\n",
       "13520             861.0      NaN\n",
       "13521             870.0      NaN\n",
       "13522             860.0      NaN\n",
       "\n",
       "[13782 rows x 2 columns]"
      ]
     },
     "execution_count": 17,
     "metadata": {},
     "output_type": "execute_result"
    }
   ],
   "source": [
    "content_pivot = train.pivot_table(\n",
    "    'row_id',\n",
    "    columns='content_type_id',\n",
    "    index='content_id',\n",
    "    aggfunc='count',\n",
    ").sort_values(by=1, ascending=False)\n",
    "content_pivot"
   ]
  },
  {
   "cell_type": "markdown",
   "metadata": {},
   "source": [
    "Тут мы видим что разные типы контента (0=вопрос, 1=лекция) могут иметь одинаковые идентификаторы, что говорит о том, что объеденять таблицы если и стоит, то не только по `id` но и по типу контента. К сожалению такую операцию сложно осуществить и она займёт много времени, делать это я не вижу смысла."
   ]
  },
  {
   "cell_type": "code",
   "execution_count": 18,
   "metadata": {},
   "outputs": [
    {
     "data": {
      "text/html": [
       "<div>\n",
       "<style scoped>\n",
       "    .dataframe tbody tr th:only-of-type {\n",
       "        vertical-align: middle;\n",
       "    }\n",
       "\n",
       "    .dataframe tbody tr th {\n",
       "        vertical-align: top;\n",
       "    }\n",
       "\n",
       "    .dataframe thead th {\n",
       "        text-align: right;\n",
       "    }\n",
       "</style>\n",
       "<table border=\"1\" class=\"dataframe\">\n",
       "  <thead>\n",
       "    <tr style=\"text-align: right;\">\n",
       "      <th>content_type_id</th>\n",
       "      <th>0</th>\n",
       "      <th>1</th>\n",
       "    </tr>\n",
       "    <tr>\n",
       "      <th>content_id</th>\n",
       "      <th></th>\n",
       "      <th></th>\n",
       "    </tr>\n",
       "  </thead>\n",
       "  <tbody>\n",
       "    <tr>\n",
       "      <th>1484</th>\n",
       "      <td>1.0</td>\n",
       "      <td>NaN</td>\n",
       "    </tr>\n",
       "    <tr>\n",
       "      <th>1485</th>\n",
       "      <td>1.0</td>\n",
       "      <td>NaN</td>\n",
       "    </tr>\n",
       "    <tr>\n",
       "      <th>1486</th>\n",
       "      <td>1.0</td>\n",
       "      <td>NaN</td>\n",
       "    </tr>\n",
       "    <tr>\n",
       "      <th>3557</th>\n",
       "      <td>3.0</td>\n",
       "      <td>NaN</td>\n",
       "    </tr>\n",
       "    <tr>\n",
       "      <th>3572</th>\n",
       "      <td>5.0</td>\n",
       "      <td>NaN</td>\n",
       "    </tr>\n",
       "    <tr>\n",
       "      <th>5823</th>\n",
       "      <td>1.0</td>\n",
       "      <td>NaN</td>\n",
       "    </tr>\n",
       "    <tr>\n",
       "      <th>10005</th>\n",
       "      <td>1.0</td>\n",
       "      <td>NaN</td>\n",
       "    </tr>\n",
       "    <tr>\n",
       "      <th>10006</th>\n",
       "      <td>1.0</td>\n",
       "      <td>NaN</td>\n",
       "    </tr>\n",
       "    <tr>\n",
       "      <th>10007</th>\n",
       "      <td>1.0</td>\n",
       "      <td>NaN</td>\n",
       "    </tr>\n",
       "    <tr>\n",
       "      <th>10008</th>\n",
       "      <td>1.0</td>\n",
       "      <td>NaN</td>\n",
       "    </tr>\n",
       "    <tr>\n",
       "      <th>10033</th>\n",
       "      <td>1.0</td>\n",
       "      <td>NaN</td>\n",
       "    </tr>\n",
       "  </tbody>\n",
       "</table>\n",
       "</div>"
      ],
      "text/plain": [
       "content_type_id    0   1\n",
       "content_id              \n",
       "1484             1.0 NaN\n",
       "1485             1.0 NaN\n",
       "1486             1.0 NaN\n",
       "3557             3.0 NaN\n",
       "3572             5.0 NaN\n",
       "5823             1.0 NaN\n",
       "10005            1.0 NaN\n",
       "10006            1.0 NaN\n",
       "10007            1.0 NaN\n",
       "10008            1.0 NaN\n",
       "10033            1.0 NaN"
      ]
     },
     "execution_count": 18,
     "metadata": {},
     "output_type": "execute_result"
    }
   ],
   "source": [
    "content_pivot[content_pivot[0] <= 10]"
   ]
  },
  {
   "cell_type": "markdown",
   "metadata": {},
   "source": [
    "Мы можем увидеть, что по типу контента \"вопрос\" у нас есть достаточно много записей которые встречаются не более 10 раз. Т.е. существует большое количество либо редких вопросов, либо вопросов до которых мало кто доходит. На некоторые вопросы ответили всего по одному разу из всех наблюдений."
   ]
  },
  {
   "cell_type": "code",
   "execution_count": 19,
   "metadata": {},
   "outputs": [
    {
     "data": {
      "text/html": [
       "<div>\n",
       "<style scoped>\n",
       "    .dataframe tbody tr th:only-of-type {\n",
       "        vertical-align: middle;\n",
       "    }\n",
       "\n",
       "    .dataframe tbody tr th {\n",
       "        vertical-align: top;\n",
       "    }\n",
       "\n",
       "    .dataframe thead th {\n",
       "        text-align: right;\n",
       "    }\n",
       "</style>\n",
       "<table border=\"1\" class=\"dataframe\">\n",
       "  <thead>\n",
       "    <tr style=\"text-align: right;\">\n",
       "      <th>content_type_id</th>\n",
       "      <th>0</th>\n",
       "      <th>1</th>\n",
       "    </tr>\n",
       "    <tr>\n",
       "      <th>content_id</th>\n",
       "      <th></th>\n",
       "      <th></th>\n",
       "    </tr>\n",
       "  </thead>\n",
       "  <tbody>\n",
       "    <tr>\n",
       "      <th>4705</th>\n",
       "      <td>2877.0</td>\n",
       "      <td>10.0</td>\n",
       "    </tr>\n",
       "    <tr>\n",
       "      <th>23144</th>\n",
       "      <td>NaN</td>\n",
       "      <td>9.0</td>\n",
       "    </tr>\n",
       "    <tr>\n",
       "      <th>22353</th>\n",
       "      <td>NaN</td>\n",
       "      <td>9.0</td>\n",
       "    </tr>\n",
       "    <tr>\n",
       "      <th>25876</th>\n",
       "      <td>NaN</td>\n",
       "      <td>8.0</td>\n",
       "    </tr>\n",
       "    <tr>\n",
       "      <th>6220</th>\n",
       "      <td>2334.0</td>\n",
       "      <td>7.0</td>\n",
       "    </tr>\n",
       "    <tr>\n",
       "      <th>20852</th>\n",
       "      <td>NaN</td>\n",
       "      <td>5.0</td>\n",
       "    </tr>\n",
       "    <tr>\n",
       "      <th>23239</th>\n",
       "      <td>NaN</td>\n",
       "      <td>4.0</td>\n",
       "    </tr>\n",
       "    <tr>\n",
       "      <th>32604</th>\n",
       "      <td>NaN</td>\n",
       "      <td>4.0</td>\n",
       "    </tr>\n",
       "    <tr>\n",
       "      <th>22326</th>\n",
       "      <td>NaN</td>\n",
       "      <td>3.0</td>\n",
       "    </tr>\n",
       "    <tr>\n",
       "      <th>18903</th>\n",
       "      <td>NaN</td>\n",
       "      <td>2.0</td>\n",
       "    </tr>\n",
       "    <tr>\n",
       "      <th>28569</th>\n",
       "      <td>NaN</td>\n",
       "      <td>2.0</td>\n",
       "    </tr>\n",
       "    <tr>\n",
       "      <th>14429</th>\n",
       "      <td>NaN</td>\n",
       "      <td>1.0</td>\n",
       "    </tr>\n",
       "    <tr>\n",
       "      <th>21169</th>\n",
       "      <td>NaN</td>\n",
       "      <td>1.0</td>\n",
       "    </tr>\n",
       "  </tbody>\n",
       "</table>\n",
       "</div>"
      ],
      "text/plain": [
       "content_type_id       0     1\n",
       "content_id                   \n",
       "4705             2877.0  10.0\n",
       "23144               NaN   9.0\n",
       "22353               NaN   9.0\n",
       "25876               NaN   8.0\n",
       "6220             2334.0   7.0\n",
       "20852               NaN   5.0\n",
       "23239               NaN   4.0\n",
       "32604               NaN   4.0\n",
       "22326               NaN   3.0\n",
       "18903               NaN   2.0\n",
       "28569               NaN   2.0\n",
       "14429               NaN   1.0\n",
       "21169               NaN   1.0"
      ]
     },
     "execution_count": 19,
     "metadata": {},
     "output_type": "execute_result"
    }
   ],
   "source": [
    "content_pivot[content_pivot[1] <= 10]"
   ]
  },
  {
   "cell_type": "markdown",
   "metadata": {},
   "source": [
    "В то же время количество малопросматриваеммых лекций не велико."
   ]
  },
  {
   "cell_type": "markdown",
   "metadata": {},
   "source": [
    "Посмотри в таблицу `questions`. Сгруппируем вопросы по бандлам и посмотрим сколько их всего и сколько из них находится в бандлах (относится к какой-либо одной теме):"
   ]
  },
  {
   "cell_type": "code",
   "execution_count": 20,
   "metadata": {},
   "outputs": [
    {
     "data": {
      "text/plain": [
       "bundle_id\n",
       "7006    5\n",
       "7001    5\n",
       "6996    5\n",
       "6991    5\n",
       "6986    5\n",
       "       ..\n",
       "5066    1\n",
       "5067    1\n",
       "5068    1\n",
       "5069    1\n",
       "5061    1\n",
       "Name: question_id, Length: 9765, dtype: int64"
      ]
     },
     "metadata": {},
     "output_type": "display_data"
    },
    {
     "name": "stdout",
     "output_type": "stream",
     "text": [
      "Количество бандлов вопросов, в которых больше одного вопроса: 1614\n"
     ]
    }
   ],
   "source": [
    "bundles = questions.groupby('bundle_id')['question_id'].count().sort_values(ascending=False)\n",
    "display(bundles)\n",
    "big_bundles = bundles[bundles >= 2].count()\n",
    "print(f'Количество бандлов вопросов, в которых больше одного вопроса: {big_bundles}')"
   ]
  },
  {
   "cell_type": "markdown",
   "metadata": {},
   "source": [
    "Можно заметить, что подавляющее большинство вопросов находится в отдельной группе / бандле, т.е. можно сказать что почти 80% вопросов подаются по одному."
   ]
  },
  {
   "attachments": {},
   "cell_type": "markdown",
   "metadata": {},
   "source": [
    "## 2) Общая картина правильных и не правильных \n",
    "Построим наглядный график, для того что бы сопоставить отношения правильных и неправильных ответов. Создадим две маски для фильтрации, получим количество данных где записей где было указано что ответ получен правильно и неправильно. На основании этой выборки построим pie chart."
   ]
  },
  {
   "cell_type": "code",
   "execution_count": 21,
   "metadata": {
    "scrolled": true
   },
   "outputs": [
    {
     "data": {
      "image/png": "[encoded data removed]",
      "text/plain": [
       "<Figure size 640x480 with 1 Axes>"
      ]
     },
     "metadata": {},
     "output_type": "display_data"
    }
   ],
   "source": [
    "def get_pie_chart():\n",
    "    correct = train['answered_correctly'] == True\n",
    "    incorrect = train['answered_correctly'] == False\n",
    "    plt.pie(\n",
    "        [train[correct]['answered_correctly'].count(), train[incorrect]['answered_correctly'].count()],\n",
    "        labels=['Правильные ответы', 'Неправильные ответы'],\n",
    "        shadow=True,\n",
    "        autopct=lambda x: f\"{x:.2f}%\"\n",
    "    )\n",
    "    plt.show()\n",
    "\n",
    "get_pie_chart()"
   ]
  },
  {
   "cell_type": "markdown",
   "metadata": {},
   "source": [
    "Наглядно видно что правильных ответов дано почти в два раза больше."
   ]
  },
  {
   "cell_type": "markdown",
   "metadata": {},
   "source": [
    "## 3) Объяснения вопросов влияет на количество правильных ответов\n",
    "Можно предположить что просмотр лекций на тематику вопроса и правильных ответов на схожие вопросы должны влиять на количество правильных ответов на вопросы.\n",
    "\n",
    "Проверим это предположение. Для начала отфильтруем все строки где `answered_correctly != null`, т.е. уберём все лекции из списка. Так же уберём из списка ответы на вопросы, где это ответ на первый вопрос из списка по которому ещё небыло объяснений `prior_question_had_explanation != null`.\n",
    "\n",
    "Построим сводную таблицу, где в качестве строк будет указание того, это корректный ответ или нет; а в качестве столбцов сумма правильных ответов и сколько всего было ответов.\n",
    "Так же построим график, что бы наглядно увидеть долю правильных ответов с объяснениями и без них."
   ]
  },
  {
   "cell_type": "code",
   "execution_count": 22,
   "metadata": {
    "colab": {
     "base_uri": "https://localhost:8080/",
     "height": 463
    },
    "executionInfo": {
     "elapsed": 705,
     "status": "ok",
     "timestamp": 1728990362466,
     "user": {
      "displayName": "Ilia Zubov",
      "userId": "11715451027508597050"
     },
     "user_tz": -120
    },
    "id": "CkDPKSVJ4api",
    "outputId": "68824fa7-2608-48ee-d38e-9f8cbdfcf21e"
   },
   "outputs": [
    {
     "data": {
      "text/html": [
       "<div>\n",
       "<style scoped>\n",
       "    .dataframe tbody tr th:only-of-type {\n",
       "        vertical-align: middle;\n",
       "    }\n",
       "\n",
       "    .dataframe tbody tr th {\n",
       "        vertical-align: top;\n",
       "    }\n",
       "\n",
       "    .dataframe thead th {\n",
       "        text-align: right;\n",
       "    }\n",
       "</style>\n",
       "<table border=\"1\" class=\"dataframe\">\n",
       "  <thead>\n",
       "    <tr style=\"text-align: right;\">\n",
       "      <th></th>\n",
       "      <th>AllAnswers</th>\n",
       "      <th>OnlyRightAnswers</th>\n",
       "    </tr>\n",
       "    <tr>\n",
       "      <th>prior_question_had_explanation</th>\n",
       "      <th></th>\n",
       "      <th></th>\n",
       "    </tr>\n",
       "  </thead>\n",
       "  <tbody>\n",
       "    <tr>\n",
       "      <th>False</th>\n",
       "      <td>9193234</td>\n",
       "      <td>4602399</td>\n",
       "    </tr>\n",
       "    <tr>\n",
       "      <th>True</th>\n",
       "      <td>89685560</td>\n",
       "      <td>60375288</td>\n",
       "    </tr>\n",
       "  </tbody>\n",
       "</table>\n",
       "</div>"
      ],
      "text/plain": [
       "                                AllAnswers OnlyRightAnswers\n",
       "prior_question_had_explanation                             \n",
       "False                              9193234          4602399\n",
       "True                              89685560         60375288"
      ]
     },
     "metadata": {},
     "output_type": "display_data"
    },
    {
     "data": {
      "image/png": "[encoded data removed]",
      "text/plain": [
       "<Figure size 640x480 with 1 Axes>"
      ]
     },
     "metadata": {},
     "output_type": "display_data"
    }
   ],
   "source": [
    "def get_pivot_table():\n",
    "    m_not_lectures = train['answered_correctly'].notnull()\n",
    "    m_had_explanation = train['prior_question_had_explanation'].notnull()\n",
    "    display(\n",
    "        train[m_not_lectures & m_had_explanation].groupby(\n",
    "            'prior_question_had_explanation'\n",
    "        ).agg(\n",
    "            AllAnswers=('answered_correctly', 'count'),\n",
    "            OnlyRightAnswers=('answered_correctly', 'sum')\n",
    "        )\n",
    "    )\n",
    "\n",
    "def get_bar_plot():\n",
    "    correct_answers = train['answered_correctly'] == True\n",
    "    incorrect_answers = train['answered_correctly'] == False\n",
    "    expl_not_null = train['prior_question_had_explanation'].notnull()\n",
    "    expl_true = train[expl_not_null]['prior_question_had_explanation']\n",
    "    expl_false = ~expl_true\n",
    "    answ1 = train[correct_answers & expl_true]['answered_correctly'].count()\n",
    "    answ2 = train[correct_answers & expl_false]['answered_correctly'].count()\n",
    "    answ3 = train[incorrect_answers & expl_true]['answered_correctly'].count()\n",
    "    answ4 = train[incorrect_answers & expl_false]['answered_correctly'].count()\n",
    "    answer_types = (\n",
    "        \"Правильные ответы\",\n",
    "        \"Неправильные ответы\",\n",
    "    )\n",
    "    answers_counts = {\n",
    "        \"Вопросы с пояснениями\": [answ1, answ3],\n",
    "        \"Вопросы без пояснений\": [answ2, answ4],\n",
    "    }\n",
    "    width = 0.5\n",
    "    fig, ax = plt.subplots()\n",
    "    bottom = np.zeros(2)\n",
    "    for label, answer_count in answers_counts.items():\n",
    "        p = ax.bar(answer_types, answer_count, width=0.5, label=label, bottom=bottom)\n",
    "        bottom += answer_count\n",
    "    ax.set_title(\"Количество правильных и неправильных ответов в зависимости от того были ли ранее пояснения к теме\")\n",
    "    ax.legend(loc=\"upper right\")\n",
    "    plt.show()\n",
    "\n",
    "get_pivot_table()\n",
    "get_bar_plot()"
   ]
  },
  {
   "cell_type": "markdown",
   "metadata": {},
   "source": [
    "Как можно заметить - на вопросы на темы, по которым ранее были даны объяснения, как правило отвечают правильно гораздо чаще (боле чем в 10 раз). Это утверждение кажется интуитивно понятным."
   ]
  },
  {
   "cell_type": "markdown",
   "metadata": {},
   "source": [
    "## 4) Номер ответа в тесте и его влияние на успеваемость\n",
    "По всей видимости тест стандартизированный и ответ подразумевает выбор из нескольких вариантов. Думаю что стоит проверить распределены ли равномерно правильные ответы по всем вариантам ответов. Иными словами, нет ли какого-нибудь большинства ответов, которые будут правильными, например при выборе 1-го варианта с большей долей этот вариант будет верным.\n",
    "\n",
    "Для начала посмотрим уникальыне значения вариантов, что бы понять сколько их:"
   ]
  },
  {
   "cell_type": "code",
   "execution_count": 24,
   "metadata": {},
   "outputs": [
    {
     "data": {
      "text/plain": [
       "correct_answer\n",
       "0    3716\n",
       "1    3478\n",
       "2    2785\n",
       "3    3544\n",
       "Name: count, dtype: int64"
      ]
     },
     "execution_count": 24,
     "metadata": {},
     "output_type": "execute_result"
    }
   ],
   "source": [
    "questions['correct_answer'].value_counts().sort_index()"
   ]
  },
  {
   "cell_type": "markdown",
   "metadata": {},
   "source": [
    "Как видно тест состоит и вопросов в которых 4 варианта ответов. Сгруппируем вопросы по правильному варианту и посчитаем количесво вопросов для каждого из варианта."
   ]
  },
  {
   "cell_type": "code",
   "execution_count": 25,
   "metadata": {},
   "outputs": [
    {
     "data": {
      "text/plain": [
       "correct_answer\n",
       "0    0.274791\n",
       "1    0.257191\n",
       "2    0.205945\n",
       "3    0.262072\n",
       "Name: proportion, dtype: float64"
      ]
     },
     "metadata": {},
     "output_type": "display_data"
    },
    {
     "data": {
      "image/png": "[encoded data removed]",
      "text/plain": [
       "<Figure size 640x480 with 1 Axes>"
      ]
     },
     "metadata": {},
     "output_type": "display_data"
    }
   ],
   "source": [
    "display(questions['correct_answer'].value_counts(normalize=True).sort_index())\n",
    "# построим наглядный график\n",
    "plt.bar(\n",
    "    [\"0\", \"1\", \"2\", \"3\"],\n",
    "    questions['correct_answer'].value_counts().sort_index(),\n",
    "    color=['b', 'm', 'r', 'g'],\n",
    ")\n",
    "plt.show()"
   ]
  },
  {
   "cell_type": "markdown",
   "metadata": {},
   "source": [
    "Как можно заметить, значения распределены достаточно равномерно, но вариант под номером `2` наименее часто бывает правильным ответом. Примерно на 5-7% меньше чем остальные варианты. Можно сказать, что выбирая этот вариант студенты с меньшей вероятностью будут правы.\n",
    "\n",
    "Теперь посмотрим как часто студенты выбирают варианты ответов для вопросов:"
   ]
  },
  {
   "cell_type": "code",
   "execution_count": 26,
   "metadata": {},
   "outputs": [
    {
     "data": {
      "text/html": [
       "<div>\n",
       "<style scoped>\n",
       "    .dataframe tbody tr th:only-of-type {\n",
       "        vertical-align: middle;\n",
       "    }\n",
       "\n",
       "    .dataframe tbody tr th {\n",
       "        vertical-align: top;\n",
       "    }\n",
       "\n",
       "    .dataframe thead th {\n",
       "        text-align: right;\n",
       "    }\n",
       "</style>\n",
       "<table border=\"1\" class=\"dataframe\">\n",
       "  <thead>\n",
       "    <tr style=\"text-align: right;\">\n",
       "      <th>user_answer</th>\n",
       "      <th>0</th>\n",
       "      <th>1</th>\n",
       "      <th>2</th>\n",
       "      <th>3</th>\n",
       "    </tr>\n",
       "    <tr>\n",
       "      <th>content_id</th>\n",
       "      <th></th>\n",
       "      <th></th>\n",
       "      <th></th>\n",
       "      <th></th>\n",
       "    </tr>\n",
       "  </thead>\n",
       "  <tbody>\n",
       "    <tr>\n",
       "      <th>0</th>\n",
       "      <td>6266.0</td>\n",
       "      <td>342.0</td>\n",
       "      <td>209.0</td>\n",
       "      <td>86.0</td>\n",
       "    </tr>\n",
       "    <tr>\n",
       "      <th>1</th>\n",
       "      <td>561.0</td>\n",
       "      <td>6589.0</td>\n",
       "      <td>74.0</td>\n",
       "      <td>174.0</td>\n",
       "    </tr>\n",
       "    <tr>\n",
       "      <th>2</th>\n",
       "      <td>24890.0</td>\n",
       "      <td>850.0</td>\n",
       "      <td>6178.0</td>\n",
       "      <td>12987.0</td>\n",
       "    </tr>\n",
       "    <tr>\n",
       "      <th>3</th>\n",
       "      <td>17906.0</td>\n",
       "      <td>314.0</td>\n",
       "      <td>861.0</td>\n",
       "      <td>3892.0</td>\n",
       "    </tr>\n",
       "    <tr>\n",
       "      <th>4</th>\n",
       "      <td>2808.0</td>\n",
       "      <td>5671.0</td>\n",
       "      <td>3796.0</td>\n",
       "      <td>19461.0</td>\n",
       "    </tr>\n",
       "    <tr>\n",
       "      <th>...</th>\n",
       "      <td>...</td>\n",
       "      <td>...</td>\n",
       "      <td>...</td>\n",
       "      <td>...</td>\n",
       "    </tr>\n",
       "    <tr>\n",
       "      <th>13518</th>\n",
       "      <td>40.0</td>\n",
       "      <td>6.0</td>\n",
       "      <td>139.0</td>\n",
       "      <td>683.0</td>\n",
       "    </tr>\n",
       "    <tr>\n",
       "      <th>13519</th>\n",
       "      <td>189.0</td>\n",
       "      <td>166.0</td>\n",
       "      <td>41.0</td>\n",
       "      <td>528.0</td>\n",
       "    </tr>\n",
       "    <tr>\n",
       "      <th>13520</th>\n",
       "      <td>88.0</td>\n",
       "      <td>78.0</td>\n",
       "      <td>579.0</td>\n",
       "      <td>116.0</td>\n",
       "    </tr>\n",
       "    <tr>\n",
       "      <th>13521</th>\n",
       "      <td>703.0</td>\n",
       "      <td>12.0</td>\n",
       "      <td>145.0</td>\n",
       "      <td>10.0</td>\n",
       "    </tr>\n",
       "    <tr>\n",
       "      <th>13522</th>\n",
       "      <td>7.0</td>\n",
       "      <td>40.0</td>\n",
       "      <td>27.0</td>\n",
       "      <td>786.0</td>\n",
       "    </tr>\n",
       "  </tbody>\n",
       "</table>\n",
       "<p>13523 rows × 4 columns</p>\n",
       "</div>"
      ],
      "text/plain": [
       "user_answer        0       1       2        3\n",
       "content_id                                   \n",
       "0             6266.0   342.0   209.0     86.0\n",
       "1              561.0  6589.0    74.0    174.0\n",
       "2            24890.0   850.0  6178.0  12987.0\n",
       "3            17906.0   314.0   861.0   3892.0\n",
       "4             2808.0  5671.0  3796.0  19461.0\n",
       "...              ...     ...     ...      ...\n",
       "13518           40.0     6.0   139.0    683.0\n",
       "13519          189.0   166.0    41.0    528.0\n",
       "13520           88.0    78.0   579.0    116.0\n",
       "13521          703.0    12.0   145.0     10.0\n",
       "13522            7.0    40.0    27.0    786.0\n",
       "\n",
       "[13523 rows x 4 columns]"
      ]
     },
     "execution_count": 26,
     "metadata": {},
     "output_type": "execute_result"
    }
   ],
   "source": [
    "m_content_type = train['content_type_id'] == 0 # выбираем только вопросы\n",
    "pivot = train[m_content_type].pivot_table(\n",
    "    \"row_id\",\n",
    "    index=\"content_id\",\n",
    "    columns=\"user_answer\",\n",
    "    aggfunc=\"count\"\n",
    ")\n",
    "pivot"
   ]
  },
  {
   "cell_type": "markdown",
   "metadata": {},
   "source": [
    "В сводной таблице можно увидеть, что некоторые варианты ответов вообще никогда не выбираются студентами.\n",
    "\n",
    "Сгруппируем все ответы по всем вопросам и посмотрим как распределено их колличество:"
   ]
  },
  {
   "cell_type": "code",
   "execution_count": 27,
   "metadata": {},
   "outputs": [
    {
     "data": {
      "text/plain": [
       "user_answer\n",
       "0    0.283934\n",
       "1    0.271881\n",
       "2    0.181422\n",
       "3    0.262763\n",
       "Name: proportion, dtype: float64"
      ]
     },
     "execution_count": 27,
     "metadata": {},
     "output_type": "execute_result"
    }
   ],
   "source": [
    "train[m_content_type]['user_answer'].value_counts(normalize=True).sort_index()"
   ]
  },
  {
   "cell_type": "markdown",
   "metadata": {},
   "source": [
    "На первый взгляд можно сделать сказать что не совсем равномерное распределение правильных ответов по вариантам нивелируется тем что студенты как правило не выбирают вариант ответа под номером `2`, поэтому это не должно сильно влиять на успеваемость."
   ]
  },
  {
   "cell_type": "markdown",
   "metadata": {},
   "source": [
    "## 5) Время на ответ\n",
    "Попробуем посмотреть влияет ли как-либо время затраченное на ответ на успешность ответа.\n",
    "\n",
    "Для начала посмотрим как распределена величина `prior_question_elapsed_time`:"
   ]
  },
  {
   "cell_type": "code",
   "execution_count": 28,
   "metadata": {},
   "outputs": [
    {
     "data": {
      "image/png": "[encoded data removed]",
      "text/plain": [
       "<Figure size 2000x600 with 2 Axes>"
      ]
     },
     "metadata": {},
     "output_type": "display_data"
    }
   ],
   "source": [
    "fig = plt.figure(figsize=(20, 6))\n",
    "fig.text = \"some\"\n",
    "fig1 = fig.add_subplot(1,2,1)\n",
    "fig1.hist(\n",
    "    train['prior_question_elapsed_time'],\n",
    "    bins=200,\n",
    ")\n",
    "fig1.set_xlabel('секунды')\n",
    "fig1.set_ylabel('количество появлений')\n",
    "fig2 = fig.add_subplot(1,2,2)\n",
    "fig2.boxplot(train['prior_question_elapsed_time'])\n",
    "fig2.set_ylabel('секунды')\n",
    "fig2.set_xlabel('prior_question_elapsed_time')\n",
    "plt.show()"
   ]
  },
  {
   "cell_type": "markdown",
   "metadata": {},
   "source": [
    "Как мы можем заметить, в большенстве своём студенты тратят от 10 до 70 секунд на ответ на вопрос. Разобъём затраченное время на категории по 10 секунд, добавим новое категориальное поле."
   ]
  },
  {
   "cell_type": "code",
   "execution_count": 29,
   "metadata": {},
   "outputs": [],
   "source": [
    "def chose_time_category(value):\n",
    "    if value < 10:\n",
    "        return '< 10'\n",
    "    elif 10 <= value < 20:\n",
    "        return '10 - 20'\n",
    "    elif 20 <= value < 30:\n",
    "        return '20 - 30'\n",
    "    elif 30 <= value < 40:\n",
    "        return '30 - 40'\n",
    "    elif 40 <= value < 50:\n",
    "        return '40 - 50'\n",
    "    elif 50 <= value <= 60:\n",
    "        return '50 - 60'\n",
    "    elif 60 <= value <= 70:\n",
    "        return '60 - 70'\n",
    "    else:\n",
    "        return '> 70'\n",
    "\n",
    "train['prior_question_elapsed_time'] = train['prior_question_elapsed_time'].apply(chose_time_category).astype('category')"
   ]
  },
  {
   "cell_type": "code",
   "execution_count": 30,
   "metadata": {},
   "outputs": [
    {
     "data": {
      "text/html": [
       "<div>\n",
       "<style scoped>\n",
       "    .dataframe tbody tr th:only-of-type {\n",
       "        vertical-align: middle;\n",
       "    }\n",
       "\n",
       "    .dataframe tbody tr th {\n",
       "        vertical-align: top;\n",
       "    }\n",
       "\n",
       "    .dataframe thead tr th {\n",
       "        text-align: left;\n",
       "    }\n",
       "\n",
       "    .dataframe thead tr:last-of-type th {\n",
       "        text-align: right;\n",
       "    }\n",
       "</style>\n",
       "<table border=\"1\" class=\"dataframe\">\n",
       "  <thead>\n",
       "    <tr>\n",
       "      <th></th>\n",
       "      <th colspan=\"2\" halign=\"left\">Answers count in group</th>\n",
       "      <th colspan=\"2\" halign=\"left\">Answers in group / All answers</th>\n",
       "    </tr>\n",
       "    <tr>\n",
       "      <th>answered_correctly</th>\n",
       "      <th>False</th>\n",
       "      <th>True</th>\n",
       "      <th>False</th>\n",
       "      <th>True</th>\n",
       "    </tr>\n",
       "    <tr>\n",
       "      <th>prior_question_elapsed_time</th>\n",
       "      <th></th>\n",
       "      <th></th>\n",
       "      <th></th>\n",
       "      <th></th>\n",
       "    </tr>\n",
       "  </thead>\n",
       "  <tbody>\n",
       "    <tr>\n",
       "      <th>10 - 20</th>\n",
       "      <td>11307906</td>\n",
       "      <td>23046897</td>\n",
       "      <td>0.113909</td>\n",
       "      <td>0.232161</td>\n",
       "    </tr>\n",
       "    <tr>\n",
       "      <th>20 - 30</th>\n",
       "      <td>10232214</td>\n",
       "      <td>20402064</td>\n",
       "      <td>0.103073</td>\n",
       "      <td>0.205518</td>\n",
       "    </tr>\n",
       "    <tr>\n",
       "      <th>30 - 40</th>\n",
       "      <td>4300217</td>\n",
       "      <td>7639630</td>\n",
       "      <td>0.043318</td>\n",
       "      <td>0.076957</td>\n",
       "    </tr>\n",
       "    <tr>\n",
       "      <th>40 - 50</th>\n",
       "      <td>1946453</td>\n",
       "      <td>3435547</td>\n",
       "      <td>0.019607</td>\n",
       "      <td>0.034608</td>\n",
       "    </tr>\n",
       "    <tr>\n",
       "      <th>50 - 60</th>\n",
       "      <td>1117368</td>\n",
       "      <td>2034328</td>\n",
       "      <td>0.011256</td>\n",
       "      <td>0.020493</td>\n",
       "    </tr>\n",
       "    <tr>\n",
       "      <th>60 - 70</th>\n",
       "      <td>564287</td>\n",
       "      <td>1046631</td>\n",
       "      <td>0.005684</td>\n",
       "      <td>0.010543</td>\n",
       "    </tr>\n",
       "    <tr>\n",
       "      <th>&lt; 10</th>\n",
       "      <td>3565954</td>\n",
       "      <td>5874163</td>\n",
       "      <td>0.035921</td>\n",
       "      <td>0.059173</td>\n",
       "    </tr>\n",
       "    <tr>\n",
       "      <th>&gt; 70</th>\n",
       "      <td>992274</td>\n",
       "      <td>1765367</td>\n",
       "      <td>0.009996</td>\n",
       "      <td>0.017783</td>\n",
       "    </tr>\n",
       "  </tbody>\n",
       "</table>\n",
       "</div>"
      ],
      "text/plain": [
       "                            Answers count in group            \\\n",
       "answered_correctly                           False     True    \n",
       "prior_question_elapsed_time                                    \n",
       "10 - 20                                   11307906  23046897   \n",
       "20 - 30                                   10232214  20402064   \n",
       "30 - 40                                    4300217   7639630   \n",
       "40 - 50                                    1946453   3435547   \n",
       "50 - 60                                    1117368   2034328   \n",
       "60 - 70                                     564287   1046631   \n",
       "< 10                                       3565954   5874163   \n",
       "> 70                                        992274   1765367   \n",
       "\n",
       "                            Answers in group / All answers            \n",
       "answered_correctly                                   False     True   \n",
       "prior_question_elapsed_time                                           \n",
       "10 - 20                                           0.113909  0.232161  \n",
       "20 - 30                                           0.103073  0.205518  \n",
       "30 - 40                                           0.043318  0.076957  \n",
       "40 - 50                                           0.019607  0.034608  \n",
       "50 - 60                                           0.011256  0.020493  \n",
       "60 - 70                                           0.005684  0.010543  \n",
       "< 10                                              0.035921  0.059173  \n",
       "> 70                                              0.009996  0.017783  "
      ]
     },
     "execution_count": 30,
     "metadata": {},
     "output_type": "execute_result"
    }
   ],
   "source": [
    "all_answers = train[train['answered_correctly'].notnull()]['row_id'].count()\n",
    "pivot = train.pivot_table(\n",
    "    'row_id',\n",
    "    columns='answered_correctly',\n",
    "    index='prior_question_elapsed_time',\n",
    "    aggfunc=['count', lambda x: len(x) / all_answers],\n",
    "    observed=False\n",
    ")\n",
    "pivot.columns = pivot.columns.set_levels(['Answers count in group', 'Answers in group / All answers'], level=0)\n",
    "pivot"
   ]
  },
  {
   "cell_type": "markdown",
   "metadata": {},
   "source": [
    "В сводной таблице мы видим интересную закономерность - кажется что от времени потраченного на ответ на вопрос никак не зависит правильность ответа. Во всех категориях студенты в приблизительно в два раза больше давали правильных ответов чем не правильных."
   ]
  },
  {
   "cell_type": "markdown",
   "metadata": {},
   "source": [
    "# Вывод\n",
    "В ходе EDA, я смог уменьшить размер датафрейма, применив базовые преобразования данных, а так же смог проанализировать основные показатели исходя из сводных таблиц и графиков. Я могу сделать вывод что наибольшее влияние на общую успеваемость всех студентов оказывает тот факт, получали ли они объяснения до ответа на вопрос или нет. Прогнозирование успеваемости одного отдельного студента, на основании предоставленных данных, мне видется сложным, потому что, по моему мнению, этих данных недостаточно. "
   ]
  }
 ],
 "metadata": {
  "colab": {
   "authorship_tag": "ABX9TyNvE3AFGJBaXV34yDZZYdJz",
   "provenance": []
  },
  "kernelspec": {
   "display_name": "Python 3 (ipykernel)",
   "language": "python",
   "name": "python3"
  },
  "language_info": {
   "codemirror_mode": {
    "name": "ipython",
    "version": 3
   },
   "file_extension": ".py",
   "mimetype": "text/x-python",
   "name": "python",
   "nbconvert_exporter": "python",
   "pygments_lexer": "ipython3",
   "version": "3.12.7"
  }
 },
 "nbformat": 4,
 "nbformat_minor": 4
}
