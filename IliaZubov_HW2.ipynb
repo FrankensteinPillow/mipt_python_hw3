{
 "cells": [
  {
   "cell_type": "markdown",
   "metadata": {
    "id": "NyHIGVhfa_Wf"
   },
   "source": [
    "# Стохастический градиентный и координатный спуски"
   ]
  },
  {
   "cell_type": "markdown",
   "metadata": {
    "id": "gn6lluIADUKa"
   },
   "source": [
    "Для каждого задания указано количество баллов (если они оцениваются отдельно) + 1 балл за аккуратное и полное выполнение всего задания"
   ]
  },
  {
   "cell_type": "markdown",
   "metadata": {
    "id": "txCccYvha_Wv"
   },
   "source": [
    "## Загрузка и подготовка данных"
   ]
  },
  {
   "cell_type": "markdown",
   "metadata": {
    "id": "NbyOzeZ6a_Wx"
   },
   "source": [
    "**Загрузите уже знакомый вам файл *Advertising.csv* как объект DataFrame.** "
   ]
  },
  {
   "cell_type": "code",
   "execution_count": 1,
   "metadata": {
    "id": "E1L4_xeDa_Wz"
   },
   "outputs": [],
   "source": [
    "import pandas as pd\n",
    "\n",
    "df = pd.read_csv(\"Advertising.csv\")"
   ]
  },
  {
   "cell_type": "markdown",
   "metadata": {
    "id": "bf4aVFndDUKf"
   },
   "source": [
    "**Проверьте, есть ли в данных пропуски и, если они есть - удалите их**"
   ]
  },
  {
   "cell_type": "code",
   "execution_count": 21,
   "metadata": {
    "id": "tiVeFnR5DUKg"
   },
   "outputs": [
    {
     "name": "stdout",
     "output_type": "stream",
     "text": [
      "<class 'pandas.core.frame.DataFrame'>\n",
      "RangeIndex: 200 entries, 0 to 199\n",
      "Data columns (total 5 columns):\n",
      " #   Column     Non-Null Count  Dtype  \n",
      "---  ------     --------------  -----  \n",
      " 0   index      200 non-null    int64  \n",
      " 1   TV         200 non-null    float64\n",
      " 2   radio      200 non-null    float64\n",
      " 3   newspaper  200 non-null    float64\n",
      " 4   sales      200 non-null    float64\n",
      "dtypes: float64(4), int64(1)\n",
      "memory usage: 7.9 KB\n"
     ]
    }
   ],
   "source": [
    "df.info()"
   ]
  },
  {
   "cell_type": "markdown",
   "metadata": {},
   "source": [
    "видим что в данных нет пропусков, соответственно удалять их не будем"
   ]
  },
  {
   "cell_type": "markdown",
   "metadata": {
    "id": "rTkiqPr_DUKh"
   },
   "source": [
    "**Преобразуйте ваши признаки в массивы NumPy и разделите их на переменные X (предикторы) и y(целевая переменная)** "
   ]
  },
  {
   "cell_type": "code",
   "execution_count": 3,
   "metadata": {
    "id": "R9OHIRB3a_Xa"
   },
   "outputs": [],
   "source": [
    "X = df[[\"TV\", \"radio\", \"newspaper\"]].values\n",
    "y = df[\"sales\"].values\n",
    "y = y.reshape((len(y), 1))"
   ]
  },
  {
   "cell_type": "markdown",
   "metadata": {
    "id": "KCvjSoHEDUKo"
   },
   "source": [
    "## Координатный спуск (3 балла)"
   ]
  },
  {
   "cell_type": "markdown",
   "metadata": {
    "id": "yjNm8dATDUKq"
   },
   "source": [
    "**Добавим единичный столбец для того, чтобы у нас был свободный коэффициент в уравнении регрессии:**"
   ]
  },
  {
   "cell_type": "code",
   "execution_count": 4,
   "metadata": {
    "id": "LMgq0fmKDUKr"
   },
   "outputs": [],
   "source": [
    "import numpy as np\n",
    "\n",
    "np.set_printoptions(formatter={\"float\": \"{0:.5f}\".format, \"float64\": \"{0:.5f}\".format})\n",
    "\n",
    "X_norm = np.hstack([np.ones(X.shape[0]).reshape(-1, 1), X])"
   ]
  },
  {
   "cell_type": "markdown",
   "metadata": {
    "id": "R008OQwcDUKt"
   },
   "source": [
    "**Нормализуем данные: обычно это необходимо для корректной работы алгоритма**"
   ]
  },
  {
   "cell_type": "code",
   "execution_count": 5,
   "metadata": {
    "id": "2Sk7Wx-SDUKt"
   },
   "outputs": [],
   "source": [
    "X_norm = X_norm / np.sqrt(np.sum(np.square(X_norm), axis=0))"
   ]
  },
  {
   "cell_type": "markdown",
   "metadata": {
    "id": "F_pHHbAdDUKu"
   },
   "source": [
    "**Реализуйте алгоритм координатного спуска:** (3 балла)\n",
    "\n",
    "Ниже приведен алгоритм:"
   ]
  },
  {
   "cell_type": "markdown",
   "metadata": {
    "id": "jBQ8vT5UDUKu"
   },
   "source": [
    "<a href=\"https://ibb.co/Th3BQFn\"><img src=\"https://i.ibb.co/DK2DBS6/zascas.jpg\" alt=\"zascas\" border=\"0\"></a>"
   ]
  },
  {
   "cell_type": "markdown",
   "metadata": {
    "id": "5ce_yM20DUKv"
   },
   "source": [
    "Примечание: 1000 итераций здесь указаны для этого задания, на самом деле их может быть намного больше, нет детерменированного значения."
   ]
  },
  {
   "cell_type": "markdown",
   "metadata": {
    "id": "y3IdiHm9DUKv"
   },
   "source": [
    "Вам необходимо реализовать координатный спуск, и вывести веса в модели линейной регрессии."
   ]
  },
  {
   "cell_type": "code",
   "execution_count": 6,
   "metadata": {},
   "outputs": [
    {
     "name": "stdout",
     "output_type": "stream",
     "text": [
      "Алгоритм сошёлся на итерации 68\n",
      "Результат линейной регрессии следующие веса:\n",
      "w_0 = 41.562\n",
      "w_1 = 110.131\n",
      "w_2 = 73.529\n",
      "w_3 = -0.550\n"
     ]
    }
   ],
   "source": [
    "def coordinate_descent_linear_regression(X, y, max_iters=1000, tol=1e-6):\n",
    "    \"\"\"\n",
    "    Реализует линейную регрессию с методом оптимизации \"координатный спуск\"\n",
    "\n",
    "    Параметры:\n",
    "    X : np.ndarray\n",
    "        Матрица признаков (размер n x m).\n",
    "    y : np.ndarray\n",
    "        Вектор целевых значений (размер n).\n",
    "    max_iters : int\n",
    "        Максимальное количество итераций для обучения.\n",
    "    tol: float\n",
    "        Пороговое значение точности модели\n",
    "\n",
    "\n",
    "    Возвращает:\n",
    "    np.ndarray\n",
    "        Обновленный вектор весов.\n",
    "    \"\"\"\n",
    "    n_samples, n_features = X.shape\n",
    "    beta = np.zeros(n_features)\n",
    "    residual = y.copy()\n",
    "\n",
    "    # Предварительный расчет X_j^T X_j для всех j\n",
    "    X_j_squared = np.sum(X**2, axis=0)\n",
    "\n",
    "    for iteration in range(max_iters):\n",
    "        beta_old = beta.copy()\n",
    "        for j in range(n_features):\n",
    "            # Сохраняем старое значение коэффициента\n",
    "            beta_j_old = beta[j]\n",
    "\n",
    "            # Обновляем остатки, добавляя вклад текущего коэффициента\n",
    "            residual += (X[:, j] * beta[j]).reshape((200, 1))\n",
    "\n",
    "            # Вычисляем числитель: X_j^T residual\n",
    "            rho_j = np.dot(X[:, j], residual)\n",
    "            # Обновляем коэффициент\n",
    "            beta[j] = rho_j[0] / X_j_squared[j]\n",
    "\n",
    "            # Обновляем остатки, вычитая новый вклад обновленного коэффициента\n",
    "            residual -= (X[:, j] * beta[j]).reshape((200, 1))\n",
    "\n",
    "        # Проверка сходимости\n",
    "        if np.linalg.norm(beta - beta_old, ord=1) < tol:\n",
    "            print(f\"Алгоритм сошёлся на итерации {iteration}\")\n",
    "            break\n",
    "    return beta\n",
    "\n",
    "\n",
    "w = coordinate_descent_linear_regression(X_norm, y)\n",
    "print(\"Результат линейной регрессии следующие веса:\")\n",
    "print(f\"w_0 = {w[0]:.3f}\\nw_1 = {w[1]:.3f}\\nw_2 = {w[2]:.3f}\\nw_3 = {w[3]:.3f}\")"
   ]
  },
  {
   "cell_type": "markdown",
   "metadata": {
    "id": "a3jG-7UADUKx"
   },
   "source": [
    "Сравните результаты с реализацией линейной регрессии из библиотеки sklearn:"
   ]
  },
  {
   "cell_type": "code",
   "execution_count": 7,
   "metadata": {
    "id": "SBl-1Yb5DUKy"
   },
   "outputs": [
    {
     "name": "stdout",
     "output_type": "stream",
     "text": [
      "[[41.56217 110.13144 73.52861 -0.55006]]\n"
     ]
    }
   ],
   "source": [
    "from sklearn.linear_model import LinearRegression\n",
    "\n",
    "model = LinearRegression(fit_intercept=False)\n",
    "model.fit(X_norm, y)\n",
    "\n",
    "print(model.coef_)"
   ]
  },
  {
   "cell_type": "markdown",
   "metadata": {
    "id": "hIl0AGLyDUKy"
   },
   "source": [
    "Если вы все сделали верно, они должны практически совпасть!"
   ]
  },
  {
   "cell_type": "markdown",
   "metadata": {
    "id": "VCGwFnPdDUKz"
   },
   "source": [
    "## Стохастический градиентный спуск (6 баллов)"
   ]
  },
  {
   "cell_type": "markdown",
   "metadata": {
    "id": "5u7Q2YJla_Xk"
   },
   "source": [
    "**Отмасштабируйте столбцы исходной матрицы *X* (которую мы не нормализовали еще!). Для того, чтобы это сделать, надо вычесть из каждого значения среднее и разделить на стандартное отклонение** (0.5 баллов)"
   ]
  },
  {
   "cell_type": "code",
   "execution_count": 8,
   "metadata": {
    "id": "9cEpV_5La_Xo"
   },
   "outputs": [],
   "source": [
    "X_std = (X - X.mean(axis=0)) / X.std(axis=0)"
   ]
  },
  {
   "cell_type": "markdown",
   "metadata": {
    "id": "8WkNYILHDUK1"
   },
   "source": [
    "**Добавим единичный столбец**"
   ]
  },
  {
   "cell_type": "code",
   "execution_count": 9,
   "metadata": {
    "id": "EVl5tEGtDUK1"
   },
   "outputs": [],
   "source": [
    "X_std = np.hstack([np.ones(X_std.shape[0]).reshape(-1, 1), X_std])"
   ]
  },
  {
   "cell_type": "markdown",
   "metadata": {
    "id": "m53tZA5fDUK1"
   },
   "source": [
    "**Создайте функцию mse_error для вычисления среднеквадратичной ошибки, принимающую два аргумента: реальные значения и предсказывающие, и возвращающую значение mse** (0.5 балла)"
   ]
  },
  {
   "cell_type": "code",
   "execution_count": 10,
   "metadata": {
    "id": "0cvtC08Aa_YK"
   },
   "outputs": [],
   "source": [
    "def mse_error(y, y_hat):\n",
    "    \"\"\"\n",
    "    Среднеквадратическая ошибка\n",
    "    \"\"\"\n",
    "    return np.mean((y - y_hat) ** 2)\n",
    "\n",
    "\n",
    "def mae_error(y, y_hat):\n",
    "    \"\"\"\n",
    "    Средняя абсолютная ошибка\n",
    "    \"\"\"\n",
    "    return np.mean(np.abs(y - y_hat))"
   ]
  },
  {
   "cell_type": "markdown",
   "metadata": {
    "id": "lpOLhdvBDUK2"
   },
   "source": [
    "**Сделайте наивный прогноз: предскажите продажи средним значением. После этого рассчитайте среднеквадратичную ошибку для этого прогноза** (0.5 балла)"
   ]
  },
  {
   "cell_type": "code",
   "execution_count": 11,
   "metadata": {
    "id": "kLV_XljVa_YZ"
   },
   "outputs": [
    {
     "name": "stdout",
     "output_type": "stream",
     "text": [
      "MSE: 27.086\n",
      "MAE: 4.280\n"
     ]
    }
   ],
   "source": [
    "mse_e = mse_error(y, y.mean())\n",
    "mae_e = mae_error(y, y.mean())\n",
    "print(f\"MSE: {mse_e:.3f}\\nMAE: {mae_e:.3f}\")"
   ]
  },
  {
   "cell_type": "markdown",
   "metadata": {
    "id": "BbybL2ola_ZM"
   },
   "source": [
    "**Создайте функцию *lin_pred*, которая может по матрице предикторов *X* и вектору весов линейной модели *w* получить вектор прогнозов** (0.5 балла)"
   ]
  },
  {
   "cell_type": "code",
   "execution_count": 12,
   "metadata": {
    "id": "1Cyz-Luaa_ZO"
   },
   "outputs": [],
   "source": [
    "def lin_pred(X, w):\n",
    "    # простое матричное умножение матрицы параметров на вектор весов\n",
    "    return X.dot(w)"
   ]
  },
  {
   "cell_type": "markdown",
   "metadata": {
    "id": "BU4adBrya_Zm"
   },
   "source": [
    "**Создайте функцию *stoch_grad_step* для реализации шага стохастического градиентного спуска. (1.5 балла) \n",
    "Функция должна принимать на вход следующие аргументы:**\n",
    "* матрицу *X*\n",
    "* вектора *y* и *w*\n",
    "* число *train_ind* - индекс объекта обучающей выборки (строки матрицы *X*), по которому считается изменение весов\n",
    "* число *$\\eta$* (eta) - шаг градиентного спуска\n",
    "\n",
    "Результатом будет вектор обновленных весов"
   ]
  },
  {
   "cell_type": "markdown",
   "metadata": {
    "id": "dyLY-P02DUK5"
   },
   "source": [
    "Шаг для стохастического градиентного спуска выглядит следующим образом:"
   ]
  },
  {
   "cell_type": "markdown",
   "metadata": {
    "id": "ORsAyIKNDUK5"
   },
   "source": [
    "$$\\Large w_j \\leftarrow w_j - \\frac{2\\eta}{\\ell} \\sum_{i=1}^\\ell{{x_{ij}((w_0 + w_1x_{i1} + w_2x_{i2} +  w_3x_{i3}) - y_i)}}$$"
   ]
  },
  {
   "cell_type": "markdown",
   "metadata": {
    "id": "CQl2FrpuDUK6"
   },
   "source": [
    "Для того, чтобы написать функцию, нужно сделать следующее:\n",
    "    \n",
    "*  посчитать направление изменения: умножить объект обучающей выборки на 2 и на разницу между предсказанным значением и реальным, а потом поделить на количество элементов в выборке.\n",
    "* вернуть разницу между вектором весов и направлением изменения, умноженным на шаг градиентного спуска"
   ]
  },
  {
   "cell_type": "code",
   "execution_count": 13,
   "metadata": {},
   "outputs": [],
   "source": [
    "def stoch_grad_step(X, y, w, train_ind, eta):\n",
    "    \"\"\"\n",
    "    Выполняет один шаг стохастического градиентного спуска.\n",
    "\n",
    "    Параметры:\n",
    "    X : np.ndarray\n",
    "        Матрица признаков (размер n x m).\n",
    "    y : np.ndarray\n",
    "        Вектор целевых значений (размер n).\n",
    "    w : np.ndarray\n",
    "        Вектор весов модели (размер m).\n",
    "    train_ind : int\n",
    "        Индекс объекта обучающей выборки.\n",
    "    eta : float\n",
    "        Шаг градиентного спуска.\n",
    "\n",
    "    Возвращает:\n",
    "    np.ndarray\n",
    "        Обновленный вектор весов.\n",
    "    \"\"\"\n",
    "    n = X.shape[0]  # Количество объектов в выборке\n",
    "\n",
    "    # Предсказание для текущего объекта\n",
    "    y_pred = lin_pred(X[train_ind], w)\n",
    "\n",
    "    # Разница между предсказанием и реальным значением\n",
    "    error = y_pred - y[train_ind]\n",
    "\n",
    "    # Направление изменения\n",
    "    grad = (2 / n) * X[train_ind] * error\n",
    "\n",
    "    # Обновление весов\n",
    "    w_new = w - eta * grad\n",
    "\n",
    "    return w_new"
   ]
  },
  {
   "cell_type": "markdown",
   "metadata": {
    "id": "pXwIFd0Ma_Zx"
   },
   "source": [
    "**Создайте функцию *stochastic_gradient_descent*, для реализации стохастического градиентного спуска (2.5 балла)**\n",
    "\n",
    "**Функция принимает на вход следующие аргументы:**\n",
    "- Матрицу признаков X\n",
    "- Целевую переменнную\n",
    "- Изначальную точку (веса модели)\n",
    "- Параметр, определяющий темп обучения\n",
    "- Максимальное число итераций\n",
    "- Евклидово расстояние между векторами весов на соседних итерациях градиентного спуска,при котором алгоритм прекращает работу \n",
    "\n",
    "**На каждой итерации в вектор (список) должно записываться текущее значение среднеквадратичной ошибки. Функция должна возвращать вектор весов $w$, а также вектор (список) ошибок.**"
   ]
  },
  {
   "cell_type": "markdown",
   "metadata": {
    "id": "ZVeoNF1JDUK7"
   },
   "source": [
    "Алгоритм сследующий:\n",
    "    \n",
    "* Инициализируйте расстояние между векторами весов на соседних итерациях большим числом (можно бесконечностью)\n",
    "* Создайте пустой список для фиксации ошибок\n",
    "* Создайте счетчик итераций\n",
    "* Реализуйте оновной цикл обучения пока расстояние между векторами весов больше того, при котором надо прекратить работу (когда расстояния станут слишком маленькими - значит, мы застряли в одном месте) и количество итераций меньше максимально разрешенного: сгенерируйте случайный индекс, запишите текущую ошибку в вектор ошибок, запишите в переменную текущий шаг стохастического спуска с использованием функции, написанной ранее. Далее рассчитайте текущее расстояние между векторами весов и прибавьте к счетчику итераций 1.\n",
    "* Верните вектор весов и вектор ошибок"
   ]
  },
  {
   "cell_type": "code",
   "execution_count": 14,
   "metadata": {},
   "outputs": [],
   "source": [
    "def stochastic_gradient_descent(X, y, w_init, eta=0.01, max_iter=1000, tol=1e-12):\n",
    "    \"\"\"\n",
    "    Реализация стохастического градиентного спуска.\n",
    "\n",
    "    Аргументы:\n",
    "    X -- матрица признаков (numpy array), размерностью (n_samples, n_features)\n",
    "    y -- вектор целевой переменной (numpy array), размерностью (n_samples,)\n",
    "    w_init -- начальные веса модели (numpy array), размерностью (n_features,)\n",
    "    eta -- темп обучения (скаляр)\n",
    "    max_iter -- максимальное количество итераций (целое число)\n",
    "    tol -- порог Евклидова расстояния для остановки (скаляр)\n",
    "\n",
    "    Возвращает:\n",
    "    w -- итоговый вектор весов (numpy array), размерностью (n_features,)\n",
    "    errors -- np.array [значения MSE, MAE]\n",
    "    \"\"\"\n",
    "    w = w_init.copy()\n",
    "    errors = []  # Список для сохранения ошибок\n",
    "    distance = float(\"inf\")  # Инициализация большого значения расстояния\n",
    "    iteration = 0  # Счетчик итераций\n",
    "\n",
    "    while distance > tol and iteration < max_iter:\n",
    "        # while iteration < max_iter:\n",
    "        # Случайный индекс\n",
    "        train_ind = np.random.randint(0, len(y))\n",
    "\n",
    "        # Предсказание текущих весов\n",
    "        y_pred = lin_pred(X, w)\n",
    "        mse = mse_error(y, y_pred)\n",
    "        mae = mae_error(y, y_pred)\n",
    "        errors.append([mse, mae])  # Сохраняем ошибку\n",
    "\n",
    "        # Сохраняем старые веса\n",
    "        w_old = w.copy()\n",
    "\n",
    "        # Шаг стохастического градиентного спуска\n",
    "        w = stoch_grad_step(X, y, w, train_ind, eta)\n",
    "\n",
    "        # Рассчитываем Евклидово расстояние между векторами весов\n",
    "        distance = np.linalg.norm(w - w_old)\n",
    "\n",
    "        # Увеличиваем счетчик итераций\n",
    "        iteration += 1\n",
    "\n",
    "    return w, np.array(errors)"
   ]
  },
  {
   "cell_type": "markdown",
   "metadata": {
    "id": "0OqHO1Rta_Z7"
   },
   "source": [
    " **Запустите $10^5$ итераций стохастического градиентного спуска. Укажите вектор начальных весов, состоящий из нулей. Можете поэкспериментировать с параметром, отвечающим за темп обучения.**"
   ]
  },
  {
   "cell_type": "code",
   "execution_count": 15,
   "metadata": {},
   "outputs": [],
   "source": [
    "w_0 = np.random.uniform(-1, 1, 4)\n",
    "w, errors = stochastic_gradient_descent(X_std, y, w_0, max_iter=10**5)"
   ]
  },
  {
   "cell_type": "markdown",
   "metadata": {
    "id": "N6fHHT6vDUK8"
   },
   "source": [
    "**Постройте график зависимости ошибки от номера итерации**"
   ]
  },
  {
   "cell_type": "code",
   "execution_count": 16,
   "metadata": {
    "id": "zsSfHDzLDUK9"
   },
   "outputs": [
    {
     "data": {
      "image/png": "[encoded data removed]",
      "text/plain": [
       "<Figure size 1600x600 with 1 Axes>"
      ]
     },
     "metadata": {},
     "output_type": "display_data"
    }
   ],
   "source": [
    "import matplotlib.pyplot as plt\n",
    "\n",
    "fig, ax = plt.subplots(figsize=(16, 6))\n",
    "ax.plot([i for i in range(len(errors))], errors[:, 0])\n",
    "ax.set_title(\"Зависимость ошибки от шага обучения\")\n",
    "ax.set_ylabel(\"Значение ошибки MSE\")\n",
    "ax.set_xlabel(\"Количество итераций\")\n",
    "ax.set_xticks([i for i in range(0, 10**5 + 1, 5000)])\n",
    "plt.show()"
   ]
  },
  {
   "cell_type": "code",
   "execution_count": 17,
   "metadata": {},
   "outputs": [
    {
     "data": {
      "image/png": "[encoded data removed]",
      "text/plain": [
       "<Figure size 1600x600 with 1 Axes>"
      ]
     },
     "metadata": {},
     "output_type": "display_data"
    }
   ],
   "source": [
    "fig, ax = plt.subplots(figsize=(16, 6))\n",
    "ax.plot([i for i in range(len(errors))], errors[:, 1])\n",
    "ax.set_title(\"Зависимость ошибки от шага обучения\")\n",
    "ax.set_ylabel(\"Значение ошибки MAE\")\n",
    "ax.set_xlabel(\"Количество итераций\")\n",
    "ax.set_xticks([i for i in range(0, 10**5 + 1, 5000)])\n",
    "plt.show()"
   ]
  },
  {
   "cell_type": "markdown",
   "metadata": {
    "id": "O-MVOcJ6a_aY"
   },
   "source": [
    "**Выведите вектор весов, к которому сошелся метод.**"
   ]
  },
  {
   "cell_type": "code",
   "execution_count": 18,
   "metadata": {
    "id": "MPjVkXe4DUK9"
   },
   "outputs": [
    {
     "name": "stdout",
     "output_type": "stream",
     "text": [
      "В результате работы алгоритм сошёлся к следующийм весам:\n",
      "w_0 = 14.033\n",
      "w_1 = 3.923\n",
      "w_2 = 2.784\n",
      "w_3 = -0.011\n"
     ]
    }
   ],
   "source": [
    "print(\"В результате работы алгоритм сошёлся к следующийм весам:\")\n",
    "print(f\"w_0 = {w[0]:.3f}\\nw_1 = {w[1]:.3f}\\nw_2 = {w[2]:.3f}\\nw_3 = {w[3]:.3f}\")"
   ]
  },
  {
   "cell_type": "markdown",
   "metadata": {
    "id": "qabzMc3Qa_a5"
   },
   "source": [
    "**Выведите среднеквадратичную ошибку на последней итерации.**"
   ]
  },
  {
   "cell_type": "code",
   "execution_count": 19,
   "metadata": {},
   "outputs": [
    {
     "name": "stdout",
     "output_type": "stream",
     "text": [
      "Значение MSE и MAE на последней итерации:\n",
      "MSE = 51.400\n",
      "MAE = 5.789\n"
     ]
    }
   ],
   "source": [
    "print(\"Значение MSE и MAE на последней итерации:\")\n",
    "print(f\"MSE = {errors[-1][0]:.3f}\")\n",
    "print(f\"MAE = {errors[-1][1]:.3f}\")"
   ]
  },
  {
   "cell_type": "code",
   "execution_count": 20,
   "metadata": {},
   "outputs": [
    {
     "name": "stdout",
     "output_type": "stream",
     "text": [
      "Значение MSE линейной регрессии с использованием LinearRegression из библиотеки sklearn:\n",
      "MSE sklearn = 2.784\n"
     ]
    }
   ],
   "source": [
    "model = LinearRegression(fit_intercept=False)\n",
    "model.fit(X_std, y)\n",
    "etalon_mse = mse_error(model.predict(X_std), y)\n",
    "print(\n",
    "    \"Значение MSE линейной регрессии с использованием LinearRegression из библиотеки sklearn:\"\n",
    ")\n",
    "print(f\"MSE sklearn = {etalon_mse:.3f}\")"
   ]
  },
  {
   "cell_type": "markdown",
   "metadata": {},
   "source": [
    "# Выводы"
   ]
  },
  {
   "cell_type": "markdown",
   "metadata": {},
   "source": [
    "## Координатный спуск\n",
    "Результаты линейной регрессии обученной на реализованном алгоритме с использованием метода координатного спуска почти не отличаются от реализации линейной регресс из библиотеки `sklearn`. На основании чего можно сделать выводы что он реализован корректно.\n",
    "\n",
    "## Стохастический градиентный спуск\n",
    "На графиках выше видно, что значения MAE и MSE достаточно резко снижаются вплоть до 20000 итерации обучения. Далее мы видим что значения их начинают расти. Я добавил в функцию линейной регрессии с стохастическим градиентным спуском пороговое значение `tol`, возможно его стоило указать меньшим значением, что бы алгоритм остановился на ранних итерациях, когда значение ошибки не начало возрастать.\n",
    "\n",
    "Интересным остаётся тот факт, что значение MSE, рассчитанное для данных с усреднением целевого показателя, оказалось ниже. Возможно необходима дальнейшая проработка алгоритма стохастичесского градиентного спуска, разработанного мной, или необходимо подобрать гиперпараметры (например скорость обучения), на которых модель при обучении покажет лучшие результаты."
   ]
  }
 ],
 "metadata": {
  "colab": {
   "collapsed_sections": [],
   "name": "Практика_Оптимизация.ipynb",
   "provenance": [],
   "toc_visible": true
  },
  "kernelspec": {
   "display_name": "Python 3 (ipykernel)",
   "language": "python",
   "name": "python3"
  },
  "language_info": {
   "codemirror_mode": {
    "name": "ipython",
    "version": 3
   },
   "file_extension": ".py",
   "mimetype": "text/x-python",
   "name": "python",
   "nbconvert_exporter": "python",
   "pygments_lexer": "ipython3",
   "version": "3.12.7"
  }
 },
 "nbformat": 4,
 "nbformat_minor": 4
}
